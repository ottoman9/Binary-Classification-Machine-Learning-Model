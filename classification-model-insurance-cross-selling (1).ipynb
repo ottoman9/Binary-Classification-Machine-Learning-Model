{
 "cells": [
  {
   "cell_type": "code",
   "execution_count": 1,
   "id": "097fdbda",
   "metadata": {
    "_cell_guid": "b1076dfc-b9ad-4769-8c92-a6c4dae69d19",
    "_uuid": "8f2839f25d086af736a60e9eeb907d3b93b6e0e5",
    "execution": {
     "iopub.execute_input": "2024-07-06T17:50:50.163484Z",
     "iopub.status.busy": "2024-07-06T17:50:50.163081Z",
     "iopub.status.idle": "2024-07-06T17:50:50.954432Z",
     "shell.execute_reply": "2024-07-06T17:50:50.953492Z"
    },
    "papermill": {
     "duration": 0.81011,
     "end_time": "2024-07-06T17:50:50.956924",
     "exception": false,
     "start_time": "2024-07-06T17:50:50.146814",
     "status": "completed"
    },
    "tags": []
   },
   "outputs": [],
   "source": [
    "# This Python 3 environment comes with many helpful analytics libraries installed\n",
    "# It is defined by the kaggle/python Docker image: https://github.com/kaggle/docker-python\n",
    "# For example, here's several helpful packages to load\n",
    "\n",
    "import numpy as np # linear algebra\n",
    "import pandas as pd # data processing, CSV file I/O (e.g. pd.read_csv)\n",
    "\n",
    "# Input data files are availabl e in the read-only \"../input/\" directory\n",
    "# For example, running this (by clicking run or pressing Shift+Enter) will list all files under the input directory\n",
    "\n",
    "import os\n",
    "for dirname, _, filenames in os.walk('/kaggle/input/playground-series-s4e7/train.csv'):\n",
    "    for filename in filenames:\n",
    "        print(os.path.join(dirname, filename))\n",
    "\n",
    "# You can write up to 20GB to the current directory (/kaggle/working/) that gets preserved as output when you create a version using \"Save & Run All\" \n",
    "# You can also write temporary files to /kaggle/temp/, but they won't be saved outside of the current session"
   ]
  },
  {
   "cell_type": "markdown",
   "id": "0a7cd80d",
   "metadata": {
    "papermill": {
     "duration": 0.014088,
     "end_time": "2024-07-06T17:50:50.985669",
     "exception": false,
     "start_time": "2024-07-06T17:50:50.971581",
     "status": "completed"
    },
    "tags": []
   },
   "source": [
    "## **Objectives & Requirements**\n",
    "**Your Goal:** The objective of this competition is to predict which customers respond positively to an automobile insurance offer.\n",
    "\n",
    "**Evaluation:**\n",
    "Submissions are evaluated using area under the ROC curve using the predicted probabilities and the ground truth targets.\n",
    "\n",
    "**Submission File**\n",
    "For each id row in the test set, you must predict the probability of the target, Response. The file should contain a header and have the following format:\n",
    "\n",
    "| id        | Response |\n",
    "|-----------|----------|\n",
    "| 11504798  | 0.5      |\n",
    "| 11504799  | 0.5      |\n",
    "| 11504800  | 0.5      |\n",
    "| 11509379  | 0.5      |\n"
   ]
  },
  {
   "cell_type": "markdown",
   "id": "b174495a",
   "metadata": {
    "papermill": {
     "duration": 0.014879,
     "end_time": "2024-07-06T17:50:51.014676",
     "exception": false,
     "start_time": "2024-07-06T17:50:50.999797",
     "status": "completed"
    },
    "tags": []
   },
   "source": [
    "## 1. DATA ACQUISITION"
   ]
  },
  {
   "cell_type": "markdown",
   "id": "678ebe75",
   "metadata": {
    "papermill": {
     "duration": 0.013889,
     "end_time": "2024-07-06T17:50:51.042701",
     "exception": false,
     "start_time": "2024-07-06T17:50:51.028812",
     "status": "completed"
    },
    "tags": []
   },
   "source": [
    "* The data has been obtained from the source in this competition in CSV."
   ]
  },
  {
   "cell_type": "code",
   "execution_count": 2,
   "id": "f12b27a6",
   "metadata": {
    "execution": {
     "iopub.execute_input": "2024-07-06T17:50:51.072316Z",
     "iopub.status.busy": "2024-07-06T17:50:51.071861Z",
     "iopub.status.idle": "2024-07-06T17:51:27.295910Z",
     "shell.execute_reply": "2024-07-06T17:51:27.295109Z"
    },
    "papermill": {
     "duration": 36.241597,
     "end_time": "2024-07-06T17:51:27.298340",
     "exception": false,
     "start_time": "2024-07-06T17:50:51.056743",
     "status": "completed"
    },
    "tags": []
   },
   "outputs": [],
   "source": [
    "#import data from files in the competition\n",
    "df_s = pd.read_csv(\"/kaggle/input/playground-series-s4e7/sample_submission.csv\")\n",
    "df_tr = pd.read_csv(\"/kaggle/input/playground-series-s4e7/train.csv\")\n",
    "df_ts = pd.read_csv(\"/kaggle/input/playground-series-s4e7/test.csv\")"
   ]
  },
  {
   "cell_type": "markdown",
   "id": "52f43a95",
   "metadata": {
    "papermill": {
     "duration": 0.014229,
     "end_time": "2024-07-06T17:51:27.327170",
     "exception": false,
     "start_time": "2024-07-06T17:51:27.312941",
     "status": "completed"
    },
    "tags": []
   },
   "source": [
    "## 2. Exploratory Data Analysis\n",
    "\n",
    "Involves looking at features, trying to find anomalies and also to understand patterns between all the features relative to target \"Response\"."
   ]
  },
  {
   "cell_type": "code",
   "execution_count": 3,
   "id": "10e8f867",
   "metadata": {
    "execution": {
     "iopub.execute_input": "2024-07-06T17:51:27.356738Z",
     "iopub.status.busy": "2024-07-06T17:51:27.356414Z",
     "iopub.status.idle": "2024-07-06T17:51:27.381786Z",
     "shell.execute_reply": "2024-07-06T17:51:27.380944Z"
    },
    "papermill": {
     "duration": 0.042451,
     "end_time": "2024-07-06T17:51:27.383807",
     "exception": false,
     "start_time": "2024-07-06T17:51:27.341356",
     "status": "completed"
    },
    "tags": []
   },
   "outputs": [
    {
     "data": {
      "text/html": [
       "<div>\n",
       "<style scoped>\n",
       "    .dataframe tbody tr th:only-of-type {\n",
       "        vertical-align: middle;\n",
       "    }\n",
       "\n",
       "    .dataframe tbody tr th {\n",
       "        vertical-align: top;\n",
       "    }\n",
       "\n",
       "    .dataframe thead th {\n",
       "        text-align: right;\n",
       "    }\n",
       "</style>\n",
       "<table border=\"1\" class=\"dataframe\">\n",
       "  <thead>\n",
       "    <tr style=\"text-align: right;\">\n",
       "      <th></th>\n",
       "      <th>id</th>\n",
       "      <th>Gender</th>\n",
       "      <th>Age</th>\n",
       "      <th>Driving_License</th>\n",
       "      <th>Region_Code</th>\n",
       "      <th>Previously_Insured</th>\n",
       "      <th>Vehicle_Age</th>\n",
       "      <th>Vehicle_Damage</th>\n",
       "      <th>Annual_Premium</th>\n",
       "      <th>Policy_Sales_Channel</th>\n",
       "      <th>Vintage</th>\n",
       "      <th>Response</th>\n",
       "    </tr>\n",
       "  </thead>\n",
       "  <tbody>\n",
       "    <tr>\n",
       "      <th>0</th>\n",
       "      <td>0</td>\n",
       "      <td>Male</td>\n",
       "      <td>21</td>\n",
       "      <td>1</td>\n",
       "      <td>35.0</td>\n",
       "      <td>0</td>\n",
       "      <td>1-2 Year</td>\n",
       "      <td>Yes</td>\n",
       "      <td>65101.0</td>\n",
       "      <td>124.0</td>\n",
       "      <td>187</td>\n",
       "      <td>0</td>\n",
       "    </tr>\n",
       "    <tr>\n",
       "      <th>1</th>\n",
       "      <td>1</td>\n",
       "      <td>Male</td>\n",
       "      <td>43</td>\n",
       "      <td>1</td>\n",
       "      <td>28.0</td>\n",
       "      <td>0</td>\n",
       "      <td>&gt; 2 Years</td>\n",
       "      <td>Yes</td>\n",
       "      <td>58911.0</td>\n",
       "      <td>26.0</td>\n",
       "      <td>288</td>\n",
       "      <td>1</td>\n",
       "    </tr>\n",
       "    <tr>\n",
       "      <th>2</th>\n",
       "      <td>2</td>\n",
       "      <td>Female</td>\n",
       "      <td>25</td>\n",
       "      <td>1</td>\n",
       "      <td>14.0</td>\n",
       "      <td>1</td>\n",
       "      <td>&lt; 1 Year</td>\n",
       "      <td>No</td>\n",
       "      <td>38043.0</td>\n",
       "      <td>152.0</td>\n",
       "      <td>254</td>\n",
       "      <td>0</td>\n",
       "    </tr>\n",
       "    <tr>\n",
       "      <th>3</th>\n",
       "      <td>3</td>\n",
       "      <td>Female</td>\n",
       "      <td>35</td>\n",
       "      <td>1</td>\n",
       "      <td>1.0</td>\n",
       "      <td>0</td>\n",
       "      <td>1-2 Year</td>\n",
       "      <td>Yes</td>\n",
       "      <td>2630.0</td>\n",
       "      <td>156.0</td>\n",
       "      <td>76</td>\n",
       "      <td>0</td>\n",
       "    </tr>\n",
       "    <tr>\n",
       "      <th>4</th>\n",
       "      <td>4</td>\n",
       "      <td>Female</td>\n",
       "      <td>36</td>\n",
       "      <td>1</td>\n",
       "      <td>15.0</td>\n",
       "      <td>1</td>\n",
       "      <td>1-2 Year</td>\n",
       "      <td>No</td>\n",
       "      <td>31951.0</td>\n",
       "      <td>152.0</td>\n",
       "      <td>294</td>\n",
       "      <td>0</td>\n",
       "    </tr>\n",
       "  </tbody>\n",
       "</table>\n",
       "</div>"
      ],
      "text/plain": [
       "   id  Gender  Age  Driving_License  Region_Code  Previously_Insured  \\\n",
       "0   0    Male   21                1         35.0                   0   \n",
       "1   1    Male   43                1         28.0                   0   \n",
       "2   2  Female   25                1         14.0                   1   \n",
       "3   3  Female   35                1          1.0                   0   \n",
       "4   4  Female   36                1         15.0                   1   \n",
       "\n",
       "  Vehicle_Age Vehicle_Damage  Annual_Premium  Policy_Sales_Channel  Vintage  \\\n",
       "0    1-2 Year            Yes         65101.0                 124.0      187   \n",
       "1   > 2 Years            Yes         58911.0                  26.0      288   \n",
       "2    < 1 Year             No         38043.0                 152.0      254   \n",
       "3    1-2 Year            Yes          2630.0                 156.0       76   \n",
       "4    1-2 Year             No         31951.0                 152.0      294   \n",
       "\n",
       "   Response  \n",
       "0         0  \n",
       "1         1  \n",
       "2         0  \n",
       "3         0  \n",
       "4         0  "
      ]
     },
     "execution_count": 3,
     "metadata": {},
     "output_type": "execute_result"
    }
   ],
   "source": [
    "df_tr.head()"
   ]
  },
  {
   "cell_type": "code",
   "execution_count": 4,
   "id": "f64f4367",
   "metadata": {
    "execution": {
     "iopub.execute_input": "2024-07-06T17:51:27.413988Z",
     "iopub.status.busy": "2024-07-06T17:51:27.413721Z",
     "iopub.status.idle": "2024-07-06T17:51:27.433419Z",
     "shell.execute_reply": "2024-07-06T17:51:27.432634Z"
    },
    "papermill": {
     "duration": 0.037142,
     "end_time": "2024-07-06T17:51:27.435704",
     "exception": false,
     "start_time": "2024-07-06T17:51:27.398562",
     "status": "completed"
    },
    "tags": []
   },
   "outputs": [
    {
     "name": "stdout",
     "output_type": "stream",
     "text": [
      "<class 'pandas.core.frame.DataFrame'>\n",
      "RangeIndex: 11504798 entries, 0 to 11504797\n",
      "Data columns (total 12 columns):\n",
      " #   Column                Dtype  \n",
      "---  ------                -----  \n",
      " 0   id                    int64  \n",
      " 1   Gender                object \n",
      " 2   Age                   int64  \n",
      " 3   Driving_License       int64  \n",
      " 4   Region_Code           float64\n",
      " 5   Previously_Insured    int64  \n",
      " 6   Vehicle_Age           object \n",
      " 7   Vehicle_Damage        object \n",
      " 8   Annual_Premium        float64\n",
      " 9   Policy_Sales_Channel  float64\n",
      " 10  Vintage               int64  \n",
      " 11  Response              int64  \n",
      "dtypes: float64(3), int64(6), object(3)\n",
      "memory usage: 1.0+ GB\n"
     ]
    }
   ],
   "source": [
    "df_tr.info()"
   ]
  },
  {
   "cell_type": "code",
   "execution_count": 5,
   "id": "fe9bbfe7",
   "metadata": {
    "execution": {
     "iopub.execute_input": "2024-07-06T17:51:27.465968Z",
     "iopub.status.busy": "2024-07-06T17:51:27.465335Z",
     "iopub.status.idle": "2024-07-06T17:51:27.478971Z",
     "shell.execute_reply": "2024-07-06T17:51:27.478223Z"
    },
    "papermill": {
     "duration": 0.0308,
     "end_time": "2024-07-06T17:51:27.480980",
     "exception": false,
     "start_time": "2024-07-06T17:51:27.450180",
     "status": "completed"
    },
    "tags": []
   },
   "outputs": [
    {
     "data": {
      "text/html": [
       "<div>\n",
       "<style scoped>\n",
       "    .dataframe tbody tr th:only-of-type {\n",
       "        vertical-align: middle;\n",
       "    }\n",
       "\n",
       "    .dataframe tbody tr th {\n",
       "        vertical-align: top;\n",
       "    }\n",
       "\n",
       "    .dataframe thead th {\n",
       "        text-align: right;\n",
       "    }\n",
       "</style>\n",
       "<table border=\"1\" class=\"dataframe\">\n",
       "  <thead>\n",
       "    <tr style=\"text-align: right;\">\n",
       "      <th></th>\n",
       "      <th>id</th>\n",
       "      <th>Gender</th>\n",
       "      <th>Age</th>\n",
       "      <th>Driving_License</th>\n",
       "      <th>Region_Code</th>\n",
       "      <th>Previously_Insured</th>\n",
       "      <th>Vehicle_Age</th>\n",
       "      <th>Vehicle_Damage</th>\n",
       "      <th>Annual_Premium</th>\n",
       "      <th>Policy_Sales_Channel</th>\n",
       "      <th>Vintage</th>\n",
       "    </tr>\n",
       "  </thead>\n",
       "  <tbody>\n",
       "    <tr>\n",
       "      <th>0</th>\n",
       "      <td>11504798</td>\n",
       "      <td>Female</td>\n",
       "      <td>20</td>\n",
       "      <td>1</td>\n",
       "      <td>47.0</td>\n",
       "      <td>0</td>\n",
       "      <td>&lt; 1 Year</td>\n",
       "      <td>No</td>\n",
       "      <td>2630.0</td>\n",
       "      <td>160.0</td>\n",
       "      <td>228</td>\n",
       "    </tr>\n",
       "    <tr>\n",
       "      <th>1</th>\n",
       "      <td>11504799</td>\n",
       "      <td>Male</td>\n",
       "      <td>47</td>\n",
       "      <td>1</td>\n",
       "      <td>28.0</td>\n",
       "      <td>0</td>\n",
       "      <td>1-2 Year</td>\n",
       "      <td>Yes</td>\n",
       "      <td>37483.0</td>\n",
       "      <td>124.0</td>\n",
       "      <td>123</td>\n",
       "    </tr>\n",
       "    <tr>\n",
       "      <th>2</th>\n",
       "      <td>11504800</td>\n",
       "      <td>Male</td>\n",
       "      <td>47</td>\n",
       "      <td>1</td>\n",
       "      <td>43.0</td>\n",
       "      <td>0</td>\n",
       "      <td>1-2 Year</td>\n",
       "      <td>Yes</td>\n",
       "      <td>2630.0</td>\n",
       "      <td>26.0</td>\n",
       "      <td>271</td>\n",
       "    </tr>\n",
       "    <tr>\n",
       "      <th>3</th>\n",
       "      <td>11504801</td>\n",
       "      <td>Female</td>\n",
       "      <td>22</td>\n",
       "      <td>1</td>\n",
       "      <td>47.0</td>\n",
       "      <td>1</td>\n",
       "      <td>&lt; 1 Year</td>\n",
       "      <td>No</td>\n",
       "      <td>24502.0</td>\n",
       "      <td>152.0</td>\n",
       "      <td>115</td>\n",
       "    </tr>\n",
       "    <tr>\n",
       "      <th>4</th>\n",
       "      <td>11504802</td>\n",
       "      <td>Male</td>\n",
       "      <td>51</td>\n",
       "      <td>1</td>\n",
       "      <td>19.0</td>\n",
       "      <td>0</td>\n",
       "      <td>1-2 Year</td>\n",
       "      <td>No</td>\n",
       "      <td>34115.0</td>\n",
       "      <td>124.0</td>\n",
       "      <td>148</td>\n",
       "    </tr>\n",
       "  </tbody>\n",
       "</table>\n",
       "</div>"
      ],
      "text/plain": [
       "         id  Gender  Age  Driving_License  Region_Code  Previously_Insured  \\\n",
       "0  11504798  Female   20                1         47.0                   0   \n",
       "1  11504799    Male   47                1         28.0                   0   \n",
       "2  11504800    Male   47                1         43.0                   0   \n",
       "3  11504801  Female   22                1         47.0                   1   \n",
       "4  11504802    Male   51                1         19.0                   0   \n",
       "\n",
       "  Vehicle_Age Vehicle_Damage  Annual_Premium  Policy_Sales_Channel  Vintage  \n",
       "0    < 1 Year             No          2630.0                 160.0      228  \n",
       "1    1-2 Year            Yes         37483.0                 124.0      123  \n",
       "2    1-2 Year            Yes          2630.0                  26.0      271  \n",
       "3    < 1 Year             No         24502.0                 152.0      115  \n",
       "4    1-2 Year             No         34115.0                 124.0      148  "
      ]
     },
     "execution_count": 5,
     "metadata": {},
     "output_type": "execute_result"
    }
   ],
   "source": [
    "df_ts.head()"
   ]
  },
  {
   "cell_type": "code",
   "execution_count": 6,
   "id": "647be921",
   "metadata": {
    "execution": {
     "iopub.execute_input": "2024-07-06T17:51:27.511568Z",
     "iopub.status.busy": "2024-07-06T17:51:27.511044Z",
     "iopub.status.idle": "2024-07-06T17:51:27.519376Z",
     "shell.execute_reply": "2024-07-06T17:51:27.518476Z"
    },
    "papermill": {
     "duration": 0.025911,
     "end_time": "2024-07-06T17:51:27.521589",
     "exception": false,
     "start_time": "2024-07-06T17:51:27.495678",
     "status": "completed"
    },
    "tags": []
   },
   "outputs": [
    {
     "name": "stdout",
     "output_type": "stream",
     "text": [
      "<class 'pandas.core.frame.DataFrame'>\n",
      "RangeIndex: 7669866 entries, 0 to 7669865\n",
      "Data columns (total 11 columns):\n",
      " #   Column                Dtype  \n",
      "---  ------                -----  \n",
      " 0   id                    int64  \n",
      " 1   Gender                object \n",
      " 2   Age                   int64  \n",
      " 3   Driving_License       int64  \n",
      " 4   Region_Code           float64\n",
      " 5   Previously_Insured    int64  \n",
      " 6   Vehicle_Age           object \n",
      " 7   Vehicle_Damage        object \n",
      " 8   Annual_Premium        float64\n",
      " 9   Policy_Sales_Channel  float64\n",
      " 10  Vintage               int64  \n",
      "dtypes: float64(3), int64(5), object(3)\n",
      "memory usage: 643.7+ MB\n"
     ]
    }
   ],
   "source": [
    "df_ts.info()"
   ]
  },
  {
   "cell_type": "code",
   "execution_count": 7,
   "id": "32c655f7",
   "metadata": {
    "execution": {
     "iopub.execute_input": "2024-07-06T17:51:27.552417Z",
     "iopub.status.busy": "2024-07-06T17:51:27.552146Z",
     "iopub.status.idle": "2024-07-06T17:51:30.870030Z",
     "shell.execute_reply": "2024-07-06T17:51:30.869157Z"
    },
    "papermill": {
     "duration": 3.335699,
     "end_time": "2024-07-06T17:51:30.872262",
     "exception": false,
     "start_time": "2024-07-06T17:51:27.536563",
     "status": "completed"
    },
    "tags": []
   },
   "outputs": [
    {
     "data": {
      "text/html": [
       "<div>\n",
       "<style scoped>\n",
       "    .dataframe tbody tr th:only-of-type {\n",
       "        vertical-align: middle;\n",
       "    }\n",
       "\n",
       "    .dataframe tbody tr th {\n",
       "        vertical-align: top;\n",
       "    }\n",
       "\n",
       "    .dataframe thead th {\n",
       "        text-align: right;\n",
       "    }\n",
       "</style>\n",
       "<table border=\"1\" class=\"dataframe\">\n",
       "  <thead>\n",
       "    <tr style=\"text-align: right;\">\n",
       "      <th></th>\n",
       "      <th>id</th>\n",
       "      <th>Age</th>\n",
       "      <th>Driving_License</th>\n",
       "      <th>Region_Code</th>\n",
       "      <th>Previously_Insured</th>\n",
       "      <th>Annual_Premium</th>\n",
       "      <th>Policy_Sales_Channel</th>\n",
       "      <th>Vintage</th>\n",
       "      <th>Response</th>\n",
       "    </tr>\n",
       "  </thead>\n",
       "  <tbody>\n",
       "    <tr>\n",
       "      <th>count</th>\n",
       "      <td>1.150480e+07</td>\n",
       "      <td>1.150480e+07</td>\n",
       "      <td>1.150480e+07</td>\n",
       "      <td>1.150480e+07</td>\n",
       "      <td>1.150480e+07</td>\n",
       "      <td>1.150480e+07</td>\n",
       "      <td>1.150480e+07</td>\n",
       "      <td>1.150480e+07</td>\n",
       "      <td>1.150480e+07</td>\n",
       "    </tr>\n",
       "    <tr>\n",
       "      <th>mean</th>\n",
       "      <td>5.752398e+06</td>\n",
       "      <td>3.838356e+01</td>\n",
       "      <td>9.980220e-01</td>\n",
       "      <td>2.641869e+01</td>\n",
       "      <td>4.629966e-01</td>\n",
       "      <td>3.046137e+04</td>\n",
       "      <td>1.124254e+02</td>\n",
       "      <td>1.638977e+02</td>\n",
       "      <td>1.229973e-01</td>\n",
       "    </tr>\n",
       "    <tr>\n",
       "      <th>std</th>\n",
       "      <td>3.321149e+06</td>\n",
       "      <td>1.499346e+01</td>\n",
       "      <td>4.443120e-02</td>\n",
       "      <td>1.299159e+01</td>\n",
       "      <td>4.986289e-01</td>\n",
       "      <td>1.645475e+04</td>\n",
       "      <td>5.403571e+01</td>\n",
       "      <td>7.997953e+01</td>\n",
       "      <td>3.284341e-01</td>\n",
       "    </tr>\n",
       "    <tr>\n",
       "      <th>min</th>\n",
       "      <td>0.000000e+00</td>\n",
       "      <td>2.000000e+01</td>\n",
       "      <td>0.000000e+00</td>\n",
       "      <td>0.000000e+00</td>\n",
       "      <td>0.000000e+00</td>\n",
       "      <td>2.630000e+03</td>\n",
       "      <td>1.000000e+00</td>\n",
       "      <td>1.000000e+01</td>\n",
       "      <td>0.000000e+00</td>\n",
       "    </tr>\n",
       "    <tr>\n",
       "      <th>25%</th>\n",
       "      <td>2.876199e+06</td>\n",
       "      <td>2.400000e+01</td>\n",
       "      <td>1.000000e+00</td>\n",
       "      <td>1.500000e+01</td>\n",
       "      <td>0.000000e+00</td>\n",
       "      <td>2.527700e+04</td>\n",
       "      <td>2.900000e+01</td>\n",
       "      <td>9.900000e+01</td>\n",
       "      <td>0.000000e+00</td>\n",
       "    </tr>\n",
       "    <tr>\n",
       "      <th>50%</th>\n",
       "      <td>5.752398e+06</td>\n",
       "      <td>3.600000e+01</td>\n",
       "      <td>1.000000e+00</td>\n",
       "      <td>2.800000e+01</td>\n",
       "      <td>0.000000e+00</td>\n",
       "      <td>3.182400e+04</td>\n",
       "      <td>1.510000e+02</td>\n",
       "      <td>1.660000e+02</td>\n",
       "      <td>0.000000e+00</td>\n",
       "    </tr>\n",
       "    <tr>\n",
       "      <th>75%</th>\n",
       "      <td>8.628598e+06</td>\n",
       "      <td>4.900000e+01</td>\n",
       "      <td>1.000000e+00</td>\n",
       "      <td>3.500000e+01</td>\n",
       "      <td>1.000000e+00</td>\n",
       "      <td>3.945100e+04</td>\n",
       "      <td>1.520000e+02</td>\n",
       "      <td>2.320000e+02</td>\n",
       "      <td>0.000000e+00</td>\n",
       "    </tr>\n",
       "    <tr>\n",
       "      <th>max</th>\n",
       "      <td>1.150480e+07</td>\n",
       "      <td>8.500000e+01</td>\n",
       "      <td>1.000000e+00</td>\n",
       "      <td>5.200000e+01</td>\n",
       "      <td>1.000000e+00</td>\n",
       "      <td>5.401650e+05</td>\n",
       "      <td>1.630000e+02</td>\n",
       "      <td>2.990000e+02</td>\n",
       "      <td>1.000000e+00</td>\n",
       "    </tr>\n",
       "  </tbody>\n",
       "</table>\n",
       "</div>"
      ],
      "text/plain": [
       "                 id           Age  Driving_License   Region_Code  \\\n",
       "count  1.150480e+07  1.150480e+07     1.150480e+07  1.150480e+07   \n",
       "mean   5.752398e+06  3.838356e+01     9.980220e-01  2.641869e+01   \n",
       "std    3.321149e+06  1.499346e+01     4.443120e-02  1.299159e+01   \n",
       "min    0.000000e+00  2.000000e+01     0.000000e+00  0.000000e+00   \n",
       "25%    2.876199e+06  2.400000e+01     1.000000e+00  1.500000e+01   \n",
       "50%    5.752398e+06  3.600000e+01     1.000000e+00  2.800000e+01   \n",
       "75%    8.628598e+06  4.900000e+01     1.000000e+00  3.500000e+01   \n",
       "max    1.150480e+07  8.500000e+01     1.000000e+00  5.200000e+01   \n",
       "\n",
       "       Previously_Insured  Annual_Premium  Policy_Sales_Channel       Vintage  \\\n",
       "count        1.150480e+07    1.150480e+07          1.150480e+07  1.150480e+07   \n",
       "mean         4.629966e-01    3.046137e+04          1.124254e+02  1.638977e+02   \n",
       "std          4.986289e-01    1.645475e+04          5.403571e+01  7.997953e+01   \n",
       "min          0.000000e+00    2.630000e+03          1.000000e+00  1.000000e+01   \n",
       "25%          0.000000e+00    2.527700e+04          2.900000e+01  9.900000e+01   \n",
       "50%          0.000000e+00    3.182400e+04          1.510000e+02  1.660000e+02   \n",
       "75%          1.000000e+00    3.945100e+04          1.520000e+02  2.320000e+02   \n",
       "max          1.000000e+00    5.401650e+05          1.630000e+02  2.990000e+02   \n",
       "\n",
       "           Response  \n",
       "count  1.150480e+07  \n",
       "mean   1.229973e-01  \n",
       "std    3.284341e-01  \n",
       "min    0.000000e+00  \n",
       "25%    0.000000e+00  \n",
       "50%    0.000000e+00  \n",
       "75%    0.000000e+00  \n",
       "max    1.000000e+00  "
      ]
     },
     "execution_count": 7,
     "metadata": {},
     "output_type": "execute_result"
    }
   ],
   "source": [
    "df_tr.describe()"
   ]
  },
  {
   "cell_type": "code",
   "execution_count": 8,
   "id": "5a1f93f1",
   "metadata": {
    "execution": {
     "iopub.execute_input": "2024-07-06T17:51:30.904286Z",
     "iopub.status.busy": "2024-07-06T17:51:30.904004Z",
     "iopub.status.idle": "2024-07-06T17:51:32.908649Z",
     "shell.execute_reply": "2024-07-06T17:51:32.907675Z"
    },
    "papermill": {
     "duration": 2.023193,
     "end_time": "2024-07-06T17:51:32.911010",
     "exception": false,
     "start_time": "2024-07-06T17:51:30.887817",
     "status": "completed"
    },
    "tags": []
   },
   "outputs": [
    {
     "data": {
      "text/html": [
       "<div>\n",
       "<style scoped>\n",
       "    .dataframe tbody tr th:only-of-type {\n",
       "        vertical-align: middle;\n",
       "    }\n",
       "\n",
       "    .dataframe tbody tr th {\n",
       "        vertical-align: top;\n",
       "    }\n",
       "\n",
       "    .dataframe thead th {\n",
       "        text-align: right;\n",
       "    }\n",
       "</style>\n",
       "<table border=\"1\" class=\"dataframe\">\n",
       "  <thead>\n",
       "    <tr style=\"text-align: right;\">\n",
       "      <th></th>\n",
       "      <th>id</th>\n",
       "      <th>Age</th>\n",
       "      <th>Driving_License</th>\n",
       "      <th>Region_Code</th>\n",
       "      <th>Previously_Insured</th>\n",
       "      <th>Annual_Premium</th>\n",
       "      <th>Policy_Sales_Channel</th>\n",
       "      <th>Vintage</th>\n",
       "    </tr>\n",
       "  </thead>\n",
       "  <tbody>\n",
       "    <tr>\n",
       "      <th>count</th>\n",
       "      <td>7.669866e+06</td>\n",
       "      <td>7.669866e+06</td>\n",
       "      <td>7.669866e+06</td>\n",
       "      <td>7.669866e+06</td>\n",
       "      <td>7.669866e+06</td>\n",
       "      <td>7.669866e+06</td>\n",
       "      <td>7.669866e+06</td>\n",
       "      <td>7.669866e+06</td>\n",
       "    </tr>\n",
       "    <tr>\n",
       "      <th>mean</th>\n",
       "      <td>1.533973e+07</td>\n",
       "      <td>3.839137e+01</td>\n",
       "      <td>9.980208e-01</td>\n",
       "      <td>2.642661e+01</td>\n",
       "      <td>4.630772e-01</td>\n",
       "      <td>3.046553e+04</td>\n",
       "      <td>1.123650e+02</td>\n",
       "      <td>1.638996e+02</td>\n",
       "    </tr>\n",
       "    <tr>\n",
       "      <th>std</th>\n",
       "      <td>2.214100e+06</td>\n",
       "      <td>1.499951e+01</td>\n",
       "      <td>4.444387e-02</td>\n",
       "      <td>1.299433e+01</td>\n",
       "      <td>4.986349e-01</td>\n",
       "      <td>1.644586e+04</td>\n",
       "      <td>5.407358e+01</td>\n",
       "      <td>7.998445e+01</td>\n",
       "    </tr>\n",
       "    <tr>\n",
       "      <th>min</th>\n",
       "      <td>1.150480e+07</td>\n",
       "      <td>2.000000e+01</td>\n",
       "      <td>0.000000e+00</td>\n",
       "      <td>0.000000e+00</td>\n",
       "      <td>0.000000e+00</td>\n",
       "      <td>2.630000e+03</td>\n",
       "      <td>1.000000e+00</td>\n",
       "      <td>1.000000e+01</td>\n",
       "    </tr>\n",
       "    <tr>\n",
       "      <th>25%</th>\n",
       "      <td>1.342226e+07</td>\n",
       "      <td>2.400000e+01</td>\n",
       "      <td>1.000000e+00</td>\n",
       "      <td>1.500000e+01</td>\n",
       "      <td>0.000000e+00</td>\n",
       "      <td>2.528000e+04</td>\n",
       "      <td>2.900000e+01</td>\n",
       "      <td>9.900000e+01</td>\n",
       "    </tr>\n",
       "    <tr>\n",
       "      <th>50%</th>\n",
       "      <td>1.533973e+07</td>\n",
       "      <td>3.600000e+01</td>\n",
       "      <td>1.000000e+00</td>\n",
       "      <td>2.800000e+01</td>\n",
       "      <td>0.000000e+00</td>\n",
       "      <td>3.182700e+04</td>\n",
       "      <td>1.510000e+02</td>\n",
       "      <td>1.660000e+02</td>\n",
       "    </tr>\n",
       "    <tr>\n",
       "      <th>75%</th>\n",
       "      <td>1.725720e+07</td>\n",
       "      <td>4.900000e+01</td>\n",
       "      <td>1.000000e+00</td>\n",
       "      <td>3.500000e+01</td>\n",
       "      <td>1.000000e+00</td>\n",
       "      <td>3.946000e+04</td>\n",
       "      <td>1.520000e+02</td>\n",
       "      <td>2.320000e+02</td>\n",
       "    </tr>\n",
       "    <tr>\n",
       "      <th>max</th>\n",
       "      <td>1.917466e+07</td>\n",
       "      <td>8.500000e+01</td>\n",
       "      <td>1.000000e+00</td>\n",
       "      <td>5.200000e+01</td>\n",
       "      <td>1.000000e+00</td>\n",
       "      <td>5.401650e+05</td>\n",
       "      <td>1.630000e+02</td>\n",
       "      <td>2.990000e+02</td>\n",
       "    </tr>\n",
       "  </tbody>\n",
       "</table>\n",
       "</div>"
      ],
      "text/plain": [
       "                 id           Age  Driving_License   Region_Code  \\\n",
       "count  7.669866e+06  7.669866e+06     7.669866e+06  7.669866e+06   \n",
       "mean   1.533973e+07  3.839137e+01     9.980208e-01  2.642661e+01   \n",
       "std    2.214100e+06  1.499951e+01     4.444387e-02  1.299433e+01   \n",
       "min    1.150480e+07  2.000000e+01     0.000000e+00  0.000000e+00   \n",
       "25%    1.342226e+07  2.400000e+01     1.000000e+00  1.500000e+01   \n",
       "50%    1.533973e+07  3.600000e+01     1.000000e+00  2.800000e+01   \n",
       "75%    1.725720e+07  4.900000e+01     1.000000e+00  3.500000e+01   \n",
       "max    1.917466e+07  8.500000e+01     1.000000e+00  5.200000e+01   \n",
       "\n",
       "       Previously_Insured  Annual_Premium  Policy_Sales_Channel       Vintage  \n",
       "count        7.669866e+06    7.669866e+06          7.669866e+06  7.669866e+06  \n",
       "mean         4.630772e-01    3.046553e+04          1.123650e+02  1.638996e+02  \n",
       "std          4.986349e-01    1.644586e+04          5.407358e+01  7.998445e+01  \n",
       "min          0.000000e+00    2.630000e+03          1.000000e+00  1.000000e+01  \n",
       "25%          0.000000e+00    2.528000e+04          2.900000e+01  9.900000e+01  \n",
       "50%          0.000000e+00    3.182700e+04          1.510000e+02  1.660000e+02  \n",
       "75%          1.000000e+00    3.946000e+04          1.520000e+02  2.320000e+02  \n",
       "max          1.000000e+00    5.401650e+05          1.630000e+02  2.990000e+02  "
      ]
     },
     "execution_count": 8,
     "metadata": {},
     "output_type": "execute_result"
    }
   ],
   "source": [
    "df_ts.describe()"
   ]
  },
  {
   "cell_type": "code",
   "execution_count": 9,
   "id": "36d514f3",
   "metadata": {
    "execution": {
     "iopub.execute_input": "2024-07-06T17:51:32.944477Z",
     "iopub.status.busy": "2024-07-06T17:51:32.944129Z",
     "iopub.status.idle": "2024-07-06T17:51:36.110127Z",
     "shell.execute_reply": "2024-07-06T17:51:36.109214Z"
    },
    "papermill": {
     "duration": 3.184921,
     "end_time": "2024-07-06T17:51:36.112257",
     "exception": false,
     "start_time": "2024-07-06T17:51:32.927336",
     "status": "completed"
    },
    "tags": []
   },
   "outputs": [
    {
     "data": {
      "text/plain": [
       "id                      0\n",
       "Gender                  0\n",
       "Age                     0\n",
       "Driving_License         0\n",
       "Region_Code             0\n",
       "Previously_Insured      0\n",
       "Vehicle_Age             0\n",
       "Vehicle_Damage          0\n",
       "Annual_Premium          0\n",
       "Policy_Sales_Channel    0\n",
       "Vintage                 0\n",
       "Response                0\n",
       "dtype: int64"
      ]
     },
     "execution_count": 9,
     "metadata": {},
     "output_type": "execute_result"
    }
   ],
   "source": [
    "df_tr.isnull().sum()"
   ]
  },
  {
   "cell_type": "code",
   "execution_count": 10,
   "id": "e8ec7d64",
   "metadata": {
    "execution": {
     "iopub.execute_input": "2024-07-06T17:51:36.146753Z",
     "iopub.status.busy": "2024-07-06T17:51:36.146371Z",
     "iopub.status.idle": "2024-07-06T17:51:38.264203Z",
     "shell.execute_reply": "2024-07-06T17:51:38.263260Z"
    },
    "papermill": {
     "duration": 2.137746,
     "end_time": "2024-07-06T17:51:38.266488",
     "exception": false,
     "start_time": "2024-07-06T17:51:36.128742",
     "status": "completed"
    },
    "tags": []
   },
   "outputs": [
    {
     "data": {
      "text/plain": [
       "id                      0\n",
       "Gender                  0\n",
       "Age                     0\n",
       "Driving_License         0\n",
       "Region_Code             0\n",
       "Previously_Insured      0\n",
       "Vehicle_Age             0\n",
       "Vehicle_Damage          0\n",
       "Annual_Premium          0\n",
       "Policy_Sales_Channel    0\n",
       "Vintage                 0\n",
       "dtype: int64"
      ]
     },
     "execution_count": 10,
     "metadata": {},
     "output_type": "execute_result"
    }
   ],
   "source": [
    "df_ts.isnull().sum()"
   ]
  },
  {
   "cell_type": "markdown",
   "id": "772ad63a",
   "metadata": {
    "papermill": {
     "duration": 0.017074,
     "end_time": "2024-07-06T17:51:38.300594",
     "exception": false,
     "start_time": "2024-07-06T17:51:38.283520",
     "status": "completed"
    },
    "tags": []
   },
   "source": [
    ">**Insights:**\n",
    "\n",
    "Data has no null values and duplicate values. Therefore cleaning won't be required here.\n"
   ]
  },
  {
   "cell_type": "code",
   "execution_count": 11,
   "id": "8aa63ee9",
   "metadata": {
    "execution": {
     "iopub.execute_input": "2024-07-06T17:51:38.333585Z",
     "iopub.status.busy": "2024-07-06T17:51:38.333245Z",
     "iopub.status.idle": "2024-07-06T17:51:38.660518Z",
     "shell.execute_reply": "2024-07-06T17:51:38.659600Z"
    },
    "papermill": {
     "duration": 0.346114,
     "end_time": "2024-07-06T17:51:38.662659",
     "exception": false,
     "start_time": "2024-07-06T17:51:38.316545",
     "status": "completed"
    },
    "tags": []
   },
   "outputs": [
    {
     "data": {
      "text/plain": [
       "<Axes: xlabel='Response'>"
      ]
     },
     "execution_count": 11,
     "metadata": {},
     "output_type": "execute_result"
    },
    {
     "data": {
      "image/png": "[encoded data removed]",
      "text/plain": [
       "<Figure size 640x480 with 1 Axes>"
      ]
     },
     "metadata": {},
     "output_type": "display_data"
    }
   ],
   "source": [
    "df_tr['Response'].value_counts().plot(kind ='bar')"
   ]
  },
  {
   "cell_type": "markdown",
   "id": "feb98aba",
   "metadata": {
    "papermill": {
     "duration": 0.016039,
     "end_time": "2024-07-06T17:51:38.695218",
     "exception": false,
     "start_time": "2024-07-06T17:51:38.679179",
     "status": "completed"
    },
    "tags": []
   },
   "source": [
    ">Insights: Most values in Response feature are 0 (No) and very few are 1 (Yes). "
   ]
  },
  {
   "cell_type": "code",
   "execution_count": 12,
   "id": "3389b22b",
   "metadata": {
    "execution": {
     "iopub.execute_input": "2024-07-06T17:51:38.728954Z",
     "iopub.status.busy": "2024-07-06T17:51:38.728627Z",
     "iopub.status.idle": "2024-07-06T17:51:39.273631Z",
     "shell.execute_reply": "2024-07-06T17:51:39.272749Z"
    },
    "papermill": {
     "duration": 0.56424,
     "end_time": "2024-07-06T17:51:39.275604",
     "exception": false,
     "start_time": "2024-07-06T17:51:38.711364",
     "status": "completed"
    },
    "tags": []
   },
   "outputs": [
    {
     "data": {
      "image/png": "[encoded data removed]",
      "text/plain": [
       "<Figure size 640x480 with 1 Axes>"
      ]
     },
     "metadata": {},
     "output_type": "display_data"
    }
   ],
   "source": [
    "#Univariate Analysis\n",
    "import matplotlib.pyplot as plt\n",
    "df_tr['Age'].hist(bins= 30)\n",
    "plt.show()"
   ]
  },
  {
   "cell_type": "markdown",
   "id": "d0fac8b7",
   "metadata": {
    "papermill": {
     "duration": 0.017669,
     "end_time": "2024-07-06T17:51:39.310158",
     "exception": false,
     "start_time": "2024-07-06T17:51:39.292489",
     "status": "completed"
    },
    "tags": []
   },
   "source": [
    ">Insight: Age 20-30 are individuals that have just started out in the career. Age 40 - 50 are individuals who have school going children - basically a family. These groups are most important in this analysis."
   ]
  },
  {
   "cell_type": "code",
   "execution_count": 13,
   "id": "e9dd06bd",
   "metadata": {
    "execution": {
     "iopub.execute_input": "2024-07-06T17:51:39.345269Z",
     "iopub.status.busy": "2024-07-06T17:51:39.344415Z",
     "iopub.status.idle": "2024-07-06T17:51:41.983781Z",
     "shell.execute_reply": "2024-07-06T17:51:41.982947Z"
    },
    "papermill": {
     "duration": 2.659237,
     "end_time": "2024-07-06T17:51:41.985960",
     "exception": false,
     "start_time": "2024-07-06T17:51:39.326723",
     "status": "completed"
    },
    "tags": []
   },
   "outputs": [
    {
     "data": {
      "image/png": "[encoded data removed]",
      "text/plain": [
       "<Figure size 640x480 with 1 Axes>"
      ]
     },
     "metadata": {},
     "output_type": "display_data"
    }
   ],
   "source": [
    "#Correlation through Boxplot between Response & Age\n",
    "import seaborn as sns\n",
    "sns.boxplot(x = 'Response', y = 'Age', data = df_tr)\n",
    "plt.show()"
   ]
  },
  {
   "cell_type": "markdown",
   "id": "5c795518",
   "metadata": {
    "papermill": {
     "duration": 0.016466,
     "end_time": "2024-07-06T17:51:42.019456",
     "exception": false,
     "start_time": "2024-07-06T17:51:42.002990",
     "status": "completed"
    },
    "tags": []
   },
   "source": [
    ">**Insight:** Box plot is best suited for correlation when the target variable is categorical. In this case, the median age of individuals who responded \"No\" is near 35. The median age for Responders who said \"Yes\" is near 45. Why is that?🤔"
   ]
  },
  {
   "cell_type": "code",
   "execution_count": 14,
   "id": "c660a215",
   "metadata": {
    "execution": {
     "iopub.execute_input": "2024-07-06T17:51:42.092086Z",
     "iopub.status.busy": "2024-07-06T17:51:42.091740Z",
     "iopub.status.idle": "2024-07-06T17:51:47.704149Z",
     "shell.execute_reply": "2024-07-06T17:51:47.703238Z"
    },
    "papermill": {
     "duration": 5.632584,
     "end_time": "2024-07-06T17:51:47.706583",
     "exception": false,
     "start_time": "2024-07-06T17:51:42.073999",
     "status": "completed"
    },
    "tags": []
   },
   "outputs": [
    {
     "data": {
      "image/png": "[encoded data removed]",
      "text/plain": [
       "<Figure size 640x480 with 1 Axes>"
      ]
     },
     "metadata": {},
     "output_type": "display_data"
    }
   ],
   "source": [
    "#Correlation between Response & Policy_Sales_Channel\n",
    "sns.boxplot(x = \"Response\", y = \"Policy_Sales_Channel\", data = df_tr)\n",
    "plt.show()\n"
   ]
  },
  {
   "cell_type": "markdown",
   "id": "33c6a083",
   "metadata": {
    "papermill": {
     "duration": 0.017202,
     "end_time": "2024-07-06T17:51:47.741468",
     "exception": false,
     "start_time": "2024-07-06T17:51:47.724266",
     "status": "completed"
    },
    "tags": []
   },
   "source": [
    ">**Insights:** Suggests that Policy_Sales_Channel should be at average value to attract more customers to avail insurance."
   ]
  },
  {
   "cell_type": "code",
   "execution_count": 15,
   "id": "ac8c56dc",
   "metadata": {
    "execution": {
     "iopub.execute_input": "2024-07-06T17:51:47.777208Z",
     "iopub.status.busy": "2024-07-06T17:51:47.776893Z",
     "iopub.status.idle": "2024-07-06T17:51:49.698039Z",
     "shell.execute_reply": "2024-07-06T17:51:49.697083Z"
    },
    "papermill": {
     "duration": 1.941576,
     "end_time": "2024-07-06T17:51:49.700192",
     "exception": false,
     "start_time": "2024-07-06T17:51:47.758616",
     "status": "completed"
    },
    "tags": []
   },
   "outputs": [
    {
     "data": {
      "image/png": "[encoded data removed]",
      "text/plain": [
       "<Figure size 640x480 with 1 Axes>"
      ]
     },
     "metadata": {},
     "output_type": "display_data"
    }
   ],
   "source": [
    "#Find out outliers\n",
    "sns.boxplot(data = df_tr[['Age','Policy_Sales_Channel', 'Vintage']])\n",
    "plt.show()"
   ]
  },
  {
   "cell_type": "code",
   "execution_count": 16,
   "id": "46c70f67",
   "metadata": {
    "execution": {
     "iopub.execute_input": "2024-07-06T17:51:49.736920Z",
     "iopub.status.busy": "2024-07-06T17:51:49.736634Z",
     "iopub.status.idle": "2024-07-06T17:51:50.691301Z",
     "shell.execute_reply": "2024-07-06T17:51:50.690312Z"
    },
    "papermill": {
     "duration": 0.975168,
     "end_time": "2024-07-06T17:51:50.693278",
     "exception": false,
     "start_time": "2024-07-06T17:51:49.718110",
     "status": "completed"
    },
    "tags": []
   },
   "outputs": [
    {
     "data": {
      "image/png": "[encoded data removed]",
      "text/plain": [
       "<Figure size 640x480 with 1 Axes>"
      ]
     },
     "metadata": {},
     "output_type": "display_data"
    }
   ],
   "source": [
    "#See how many No's & Yes' does Response have\n",
    "sns.countplot(data = df_tr, x = 'Response')\n",
    "plt.show()"
   ]
  },
  {
   "cell_type": "code",
   "execution_count": 17,
   "id": "b04e2191",
   "metadata": {
    "execution": {
     "iopub.execute_input": "2024-07-06T17:51:50.731299Z",
     "iopub.status.busy": "2024-07-06T17:51:50.730984Z",
     "iopub.status.idle": "2024-07-06T17:51:50.828921Z",
     "shell.execute_reply": "2024-07-06T17:51:50.828027Z"
    },
    "papermill": {
     "duration": 0.119517,
     "end_time": "2024-07-06T17:51:50.831279",
     "exception": false,
     "start_time": "2024-07-06T17:51:50.711762",
     "status": "completed"
    },
    "tags": []
   },
   "outputs": [
    {
     "data": {
      "text/plain": [
       "Response\n",
       "0    10089739\n",
       "1     1415059\n",
       "Name: count, dtype: int64"
      ]
     },
     "execution_count": 17,
     "metadata": {},
     "output_type": "execute_result"
    }
   ],
   "source": [
    "df_tr['Response'].value_counts()"
   ]
  },
  {
   "cell_type": "markdown",
   "id": "a58fd9aa",
   "metadata": {
    "papermill": {
     "duration": 0.018344,
     "end_time": "2024-07-06T17:51:50.868570",
     "exception": false,
     "start_time": "2024-07-06T17:51:50.850226",
     "status": "completed"
    },
    "tags": []
   },
   "source": [
    "**Response:**\n",
    "\n",
    "Majority = No\n",
    "\n",
    "Minority = Yes"
   ]
  },
  {
   "cell_type": "code",
   "execution_count": 18,
   "id": "8632cf76",
   "metadata": {
    "execution": {
     "iopub.execute_input": "2024-07-06T17:51:50.906915Z",
     "iopub.status.busy": "2024-07-06T17:51:50.906282Z",
     "iopub.status.idle": "2024-07-06T17:51:50.910780Z",
     "shell.execute_reply": "2024-07-06T17:51:50.909830Z"
    },
    "papermill": {
     "duration": 0.025868,
     "end_time": "2024-07-06T17:51:50.912690",
     "exception": false,
     "start_time": "2024-07-06T17:51:50.886822",
     "status": "completed"
    },
    "tags": []
   },
   "outputs": [],
   "source": [
    "import warnings \n",
    "warnings.filterwarnings(\"ignore\")\n",
    "#sns.pairplot(df_tr, hue = \"Response\")\n",
    "#plt.show()"
   ]
  },
  {
   "cell_type": "code",
   "execution_count": 19,
   "id": "892609ec",
   "metadata": {
    "execution": {
     "iopub.execute_input": "2024-07-06T17:51:50.951196Z",
     "iopub.status.busy": "2024-07-06T17:51:50.950361Z",
     "iopub.status.idle": "2024-07-06T17:52:02.636962Z",
     "shell.execute_reply": "2024-07-06T17:52:02.636133Z"
    },
    "papermill": {
     "duration": 11.708391,
     "end_time": "2024-07-06T17:52:02.639332",
     "exception": false,
     "start_time": "2024-07-06T17:51:50.930941",
     "status": "completed"
    },
    "tags": []
   },
   "outputs": [],
   "source": [
    "#lets drop duplicates & Null values - if any\n",
    "df_tr.drop_duplicates(inplace = True)\n",
    "df_tr.dropna(inplace = True)"
   ]
  },
  {
   "cell_type": "markdown",
   "id": "d0bafd34",
   "metadata": {
    "papermill": {
     "duration": 0.017792,
     "end_time": "2024-07-06T17:52:02.675836",
     "exception": false,
     "start_time": "2024-07-06T17:52:02.658044",
     "status": "completed"
    },
    "tags": []
   },
   "source": [
    "## Solution to memory Problem\n",
    "**Issue:** This computation is consuming a lot of RAM which is slowing down the process as well as crashing it sometimes.\n",
    "\n",
    "**Solution:** Using a commonly used Memory usage reduction function that will downcase numerical columns while converting object columns to category type."
   ]
  },
  {
   "cell_type": "code",
   "execution_count": 20,
   "id": "1aa1acf2",
   "metadata": {
    "execution": {
     "iopub.execute_input": "2024-07-06T17:52:02.712968Z",
     "iopub.status.busy": "2024-07-06T17:52:02.712632Z",
     "iopub.status.idle": "2024-07-06T17:52:02.725983Z",
     "shell.execute_reply": "2024-07-06T17:52:02.725101Z"
    },
    "papermill": {
     "duration": 0.034375,
     "end_time": "2024-07-06T17:52:02.728068",
     "exception": false,
     "start_time": "2024-07-06T17:52:02.693693",
     "status": "completed"
    },
    "tags": []
   },
   "outputs": [],
   "source": [
    "import pandas as pd\n",
    "import numpy as np\n",
    "\n",
    "def reduce_memory_usage(df):\n",
    "    \"\"\"\n",
    "    Reduce memory usage of a DataFrame by downcasting numeric types and converting object types to categorical types.\n",
    "    \n",
    "    Parameters:\n",
    "    df (pd.DataFrame): The DataFrame to optimize.\n",
    "    \n",
    "    Returns:\n",
    "    pd.DataFrame: The optimized DataFrame.\n",
    "    \"\"\"\n",
    "    start_mem = df.memory_usage().sum() / 1024**2\n",
    "    print(f'Initial memory usage: {start_mem:.2f} MB')\n",
    "\n",
    "    for col in df.columns:\n",
    "        col_type = df[col].dtype\n",
    "\n",
    "        if col_type != object:\n",
    "            c_min = df[col].min()\n",
    "            c_max = df[col].max()\n",
    "\n",
    "            if str(col_type)[:3] == 'int':\n",
    "                if c_min > np.iinfo(np.int8).min and c_max < np.iinfo(np.int8).max:\n",
    "                    df[col] = df[col].astype(np.int8)\n",
    "                elif c_min > np.iinfo(np.int16).min and c_max < np.iinfo(np.int16).max:\n",
    "                    df[col] = df[col].astype(np.int16)\n",
    "                elif c_min > np.iinfo(np.int32).min and c_max < np.iinfo(np.int32).max:\n",
    "                    df[col] = df[col].astype(np.int32)\n",
    "                elif c_min > np.iinfo(np.int64).min and c_max < np.iinfo(np.int64).max:\n",
    "                    df[col] = df[col].astype(np.int64)\n",
    "            else:\n",
    "                if c_min > np.finfo(np.float16).min and c_max < np.finfo(np.float16).max:\n",
    "                    df[col] = df[col].astype(np.float16)\n",
    "                elif c_min > np.finfo(np.float32).min and c_max < np.finfo(np.float32).max:\n",
    "                    df[col] = df[col].astype(np.float32)\n",
    "                else:\n",
    "                    df[col] = df[col].astype(np.float64)\n",
    "        else:\n",
    "            df[col] = df[col].astype('category')\n",
    "\n",
    "    end_mem = df.memory_usage().sum() / 1024**2\n",
    "    print(f'Final memory usage: {end_mem:.2f} MB')\n",
    "    print(f'Memory usage decreased by {(start_mem - end_mem) / start_mem * 100:.1f}%')\n",
    "\n",
    "    return df\n"
   ]
  },
  {
   "cell_type": "code",
   "execution_count": 21,
   "id": "4b343034",
   "metadata": {
    "execution": {
     "iopub.execute_input": "2024-07-06T17:52:02.765021Z",
     "iopub.status.busy": "2024-07-06T17:52:02.764520Z",
     "iopub.status.idle": "2024-07-06T17:52:08.992628Z",
     "shell.execute_reply": "2024-07-06T17:52:08.991602Z"
    },
    "papermill": {
     "duration": 6.248782,
     "end_time": "2024-07-06T17:52:08.994717",
     "exception": false,
     "start_time": "2024-07-06T17:52:02.745935",
     "status": "completed"
    },
    "tags": []
   },
   "outputs": [
    {
     "name": "stdout",
     "output_type": "stream",
     "text": [
      "Initial memory usage: 1053.30 MB\n",
      "Final memory usage: 230.41 MB\n",
      "Memory usage decreased by 78.1%\n",
      "Initial memory usage: 643.68 MB\n",
      "Final memory usage: 146.29 MB\n",
      "Memory usage decreased by 77.3%\n"
     ]
    }
   ],
   "source": [
    "#apply memory usage reduction function on df_tr & df_ts\n",
    "df_tr = reduce_memory_usage(df_tr)\n",
    "df_ts = reduce_memory_usage(df_ts)"
   ]
  },
  {
   "cell_type": "markdown",
   "id": "3dd76aa0",
   "metadata": {
    "papermill": {
     "duration": 0.01802,
     "end_time": "2024-07-06T17:52:09.031266",
     "exception": false,
     "start_time": "2024-07-06T17:52:09.013246",
     "status": "completed"
    },
    "tags": []
   },
   "source": [
    "## Data Scaling\n",
    "\n",
    "🔧 Data Scaling: Adjusts feature values to a common range for balanced model performance.\n",
    "\n",
    "⚖️ Without Scaling: Algorithms may prioritize larger values, skewing results and reducing accuracy."
   ]
  },
  {
   "cell_type": "code",
   "execution_count": 22,
   "id": "d91d10d5",
   "metadata": {
    "execution": {
     "iopub.execute_input": "2024-07-06T17:52:09.068913Z",
     "iopub.status.busy": "2024-07-06T17:52:09.068636Z",
     "iopub.status.idle": "2024-07-06T17:52:09.203701Z",
     "shell.execute_reply": "2024-07-06T17:52:09.202967Z"
    },
    "papermill": {
     "duration": 0.156167,
     "end_time": "2024-07-06T17:52:09.205826",
     "exception": false,
     "start_time": "2024-07-06T17:52:09.049659",
     "status": "completed"
    },
    "tags": []
   },
   "outputs": [],
   "source": [
    "#Lets scale the data\n",
    "from sklearn.preprocessing import StandardScaler\n",
    "from sklearn.preprocessing import MinMaxScaler\n",
    "from sklearn.preprocessing import MaxAbsScaler\n",
    "from sklearn.preprocessing import RobustScaler\n",
    "from sklearn.preprocessing import Normalizer\n",
    "from sklearn.preprocessing import QuantileTransformer\n",
    "from sklearn.preprocessing import PowerTransformer\n"
   ]
  },
  {
   "cell_type": "code",
   "execution_count": 23,
   "id": "ed96da21",
   "metadata": {
    "execution": {
     "iopub.execute_input": "2024-07-06T17:52:09.243866Z",
     "iopub.status.busy": "2024-07-06T17:52:09.243576Z",
     "iopub.status.idle": "2024-07-06T17:52:10.545938Z",
     "shell.execute_reply": "2024-07-06T17:52:10.545156Z"
    },
    "papermill": {
     "duration": 1.323829,
     "end_time": "2024-07-06T17:52:10.548216",
     "exception": false,
     "start_time": "2024-07-06T17:52:09.224387",
     "status": "completed"
    },
    "tags": []
   },
   "outputs": [],
   "source": [
    "#Applying Standard Scalar & MinMax Scaler\n",
    "# create an object around standard scaler\n",
    "scaler = StandardScaler()\n",
    "#fit & transform train data\n",
    "x_train_scale = scaler.fit_transform(df_tr[['Region_Code', 'Policy_Sales_Channel','Vintage']])\n",
    "#fit & transform test data\n",
    "x_test_scale = scaler.fit_transform(df_ts[['Region_Code', 'Policy_Sales_Channel','Vintage']])\n",
    "#Create an object around MinMaxScaler\n",
    "scaler2 = MinMaxScaler()\n",
    "#Fit & transform train data\n",
    "x_train_minmax = scaler2.fit_transform(df_tr[['Annual_Premium']])\n",
    "#Fit & transform test data\n",
    "x_test_minmax = scaler2.fit_transform(df_ts[['Annual_Premium']])"
   ]
  },
  {
   "cell_type": "markdown",
   "id": "02a92da6",
   "metadata": {
    "papermill": {
     "duration": 0.017911,
     "end_time": "2024-07-06T17:52:10.585260",
     "exception": false,
     "start_time": "2024-07-06T17:52:10.567349",
     "status": "completed"
    },
    "tags": []
   },
   "source": [
    "**🔧 StandardScaler:** 📏 Normalizes features to a mean of 0 and standard deviation of 1, perfect for data with normal distribution.\n",
    "\n",
    "**📉 MinMaxScaler:** 🏞️ Scales features to a range (0, 1), ideal for preserving the relationships in the original data.\n",
    "\n",
    "Other methods weren't chosen because these two ensure consistent and balanced data for our specific needs! 🌟"
   ]
  },
  {
   "cell_type": "code",
   "execution_count": 24,
   "id": "43a7b4c4",
   "metadata": {
    "execution": {
     "iopub.execute_input": "2024-07-06T17:52:10.622973Z",
     "iopub.status.busy": "2024-07-06T17:52:10.622331Z",
     "iopub.status.idle": "2024-07-06T17:52:10.628078Z",
     "shell.execute_reply": "2024-07-06T17:52:10.627248Z"
    },
    "papermill": {
     "duration": 0.027274,
     "end_time": "2024-07-06T17:52:10.630791",
     "exception": false,
     "start_time": "2024-07-06T17:52:10.603517",
     "status": "completed"
    },
    "tags": []
   },
   "outputs": [
    {
     "name": "stdout",
     "output_type": "stream",
     "text": [
      "x_train_scale= [[ 0.6605281   0.21420203  0.28885213]\n",
      " [ 0.121718   -1.5994136   1.5516753 ]\n",
      " [-0.9559022   0.73237795  1.1265665 ]\n",
      " ...\n",
      " [ 0.4296095   0.73237795  0.31385854]\n",
      " [ 0.121718   -1.5994136   1.3766305 ]\n",
      " [ 0.121718    0.73237795  0.31385854]] \n",
      " x_test_scale= [[ 1.5832593   0.88092947  0.80141115]\n",
      " [ 0.12108258  0.21516992 -0.51134413]\n",
      " [ 1.2754327  -1.5971754   1.3390157 ]\n",
      " ...\n",
      " [ 0.50586593  0.4740764  -1.26149   ]\n",
      " [ 0.12108258  0.21516992 -0.56135386]\n",
      " [ 1.5063027   0.7329829  -1.0614511 ]] \n",
      " x_train_minmax= [[0.11621755]\n",
      " [0.10470202]\n",
      " [0.06588036]\n",
      " ...\n",
      " [0.        ]\n",
      " [0.08522794]\n",
      " [0.0562289 ]] \n",
      " x_test_minmax= [[0.        ]\n",
      " [0.06483857]\n",
      " [0.        ]\n",
      " ...\n",
      " [0.        ]\n",
      " [0.06741142]\n",
      " [0.04626304]]\n"
     ]
    }
   ],
   "source": [
    "print(\"x_train_scale=\", x_train_scale,\"\\n x_test_scale=\" ,x_test_scale, \"\\n x_train_minmax=\" ,x_train_minmax,\"\\n x_test_minmax=\", x_test_minmax)"
   ]
  },
  {
   "cell_type": "markdown",
   "id": "7566d18c",
   "metadata": {
    "papermill": {
     "duration": 0.017845,
     "end_time": "2024-07-06T17:52:10.666821",
     "exception": false,
     "start_time": "2024-07-06T17:52:10.648976",
     "status": "completed"
    },
    "tags": []
   },
   "source": [
    "## Data Encoding\n",
    "\n",
    "🎭 Transforms categorical data into numerical form for model training."
   ]
  },
  {
   "cell_type": "code",
   "execution_count": 25,
   "id": "711ee773",
   "metadata": {
    "execution": {
     "iopub.execute_input": "2024-07-06T17:52:10.704026Z",
     "iopub.status.busy": "2024-07-06T17:52:10.703731Z",
     "iopub.status.idle": "2024-07-06T17:52:12.073665Z",
     "shell.execute_reply": "2024-07-06T17:52:12.072679Z"
    },
    "papermill": {
     "duration": 1.390911,
     "end_time": "2024-07-06T17:52:12.075740",
     "exception": false,
     "start_time": "2024-07-06T17:52:10.684829",
     "status": "completed"
    },
    "tags": []
   },
   "outputs": [
    {
     "data": {
      "text/html": [
       "<div>\n",
       "<style scoped>\n",
       "    .dataframe tbody tr th:only-of-type {\n",
       "        vertical-align: middle;\n",
       "    }\n",
       "\n",
       "    .dataframe tbody tr th {\n",
       "        vertical-align: top;\n",
       "    }\n",
       "\n",
       "    .dataframe thead th {\n",
       "        text-align: right;\n",
       "    }\n",
       "</style>\n",
       "<table border=\"1\" class=\"dataframe\">\n",
       "  <thead>\n",
       "    <tr style=\"text-align: right;\">\n",
       "      <th></th>\n",
       "      <th>id</th>\n",
       "      <th>Age</th>\n",
       "      <th>Driving_License</th>\n",
       "      <th>Region_Code</th>\n",
       "      <th>Previously_Insured</th>\n",
       "      <th>Annual_Premium</th>\n",
       "      <th>Policy_Sales_Channel</th>\n",
       "      <th>Vintage</th>\n",
       "      <th>Response</th>\n",
       "      <th>Gender_Male</th>\n",
       "      <th>Vehicle_Age_&lt; 1 Year</th>\n",
       "      <th>Vehicle_Age_&gt; 2 Years</th>\n",
       "      <th>Vehicle_Damage_Yes</th>\n",
       "    </tr>\n",
       "  </thead>\n",
       "  <tbody>\n",
       "    <tr>\n",
       "      <th>0</th>\n",
       "      <td>0</td>\n",
       "      <td>21</td>\n",
       "      <td>1</td>\n",
       "      <td>35</td>\n",
       "      <td>0</td>\n",
       "      <td>65101</td>\n",
       "      <td>124</td>\n",
       "      <td>187</td>\n",
       "      <td>0</td>\n",
       "      <td>1</td>\n",
       "      <td>0</td>\n",
       "      <td>0</td>\n",
       "      <td>1</td>\n",
       "    </tr>\n",
       "    <tr>\n",
       "      <th>1</th>\n",
       "      <td>1</td>\n",
       "      <td>43</td>\n",
       "      <td>1</td>\n",
       "      <td>28</td>\n",
       "      <td>0</td>\n",
       "      <td>58911</td>\n",
       "      <td>26</td>\n",
       "      <td>288</td>\n",
       "      <td>1</td>\n",
       "      <td>1</td>\n",
       "      <td>0</td>\n",
       "      <td>1</td>\n",
       "      <td>1</td>\n",
       "    </tr>\n",
       "    <tr>\n",
       "      <th>2</th>\n",
       "      <td>2</td>\n",
       "      <td>25</td>\n",
       "      <td>1</td>\n",
       "      <td>14</td>\n",
       "      <td>1</td>\n",
       "      <td>38043</td>\n",
       "      <td>152</td>\n",
       "      <td>254</td>\n",
       "      <td>0</td>\n",
       "      <td>0</td>\n",
       "      <td>1</td>\n",
       "      <td>0</td>\n",
       "      <td>0</td>\n",
       "    </tr>\n",
       "    <tr>\n",
       "      <th>3</th>\n",
       "      <td>3</td>\n",
       "      <td>35</td>\n",
       "      <td>1</td>\n",
       "      <td>1</td>\n",
       "      <td>0</td>\n",
       "      <td>2630</td>\n",
       "      <td>156</td>\n",
       "      <td>76</td>\n",
       "      <td>0</td>\n",
       "      <td>0</td>\n",
       "      <td>0</td>\n",
       "      <td>0</td>\n",
       "      <td>1</td>\n",
       "    </tr>\n",
       "    <tr>\n",
       "      <th>4</th>\n",
       "      <td>4</td>\n",
       "      <td>36</td>\n",
       "      <td>1</td>\n",
       "      <td>15</td>\n",
       "      <td>1</td>\n",
       "      <td>31951</td>\n",
       "      <td>152</td>\n",
       "      <td>294</td>\n",
       "      <td>0</td>\n",
       "      <td>0</td>\n",
       "      <td>0</td>\n",
       "      <td>0</td>\n",
       "      <td>0</td>\n",
       "    </tr>\n",
       "  </tbody>\n",
       "</table>\n",
       "</div>"
      ],
      "text/plain": [
       "   id  Age  Driving_License  Region_Code  Previously_Insured  Annual_Premium  \\\n",
       "0   0   21                1           35                   0           65101   \n",
       "1   1   43                1           28                   0           58911   \n",
       "2   2   25                1           14                   1           38043   \n",
       "3   3   35                1            1                   0            2630   \n",
       "4   4   36                1           15                   1           31951   \n",
       "\n",
       "   Policy_Sales_Channel  Vintage  Response  Gender_Male  Vehicle_Age_< 1 Year  \\\n",
       "0                   124      187         0            1                     0   \n",
       "1                    26      288         1            1                     0   \n",
       "2                   152      254         0            0                     1   \n",
       "3                   156       76         0            0                     0   \n",
       "4                   152      294         0            0                     0   \n",
       "\n",
       "   Vehicle_Age_> 2 Years  Vehicle_Damage_Yes  \n",
       "0                      0                   1  \n",
       "1                      1                   1  \n",
       "2                      0                   0  \n",
       "3                      0                   1  \n",
       "4                      0                   0  "
      ]
     },
     "execution_count": 25,
     "metadata": {},
     "output_type": "execute_result"
    }
   ],
   "source": [
    "#I prefer One-hot encoding for this project as the categorical features have only 2 - 3 feature categories\n",
    "colums_encode_tr = ['Gender', 'Vehicle_Age', 'Vehicle_Damage']\n",
    "df_tr_encoded = pd.get_dummies(df_tr, columns = colums_encode_tr , drop_first = True).astype(int)\n",
    "df_tr_encoded.head()"
   ]
  },
  {
   "cell_type": "markdown",
   "id": "75303894",
   "metadata": {
    "papermill": {
     "duration": 0.018332,
     "end_time": "2024-07-06T17:52:12.113087",
     "exception": false,
     "start_time": "2024-07-06T17:52:12.094755",
     "status": "completed"
    },
    "tags": []
   },
   "source": [
    "**🏳️ One-Hot Encoding:** 📊 Converts each category into a separate binary column, ensuring no ordinal relationship is imposed on our categories."
   ]
  },
  {
   "cell_type": "code",
   "execution_count": 26,
   "id": "0689851d",
   "metadata": {
    "execution": {
     "iopub.execute_input": "2024-07-06T17:52:12.151666Z",
     "iopub.status.busy": "2024-07-06T17:52:12.151304Z",
     "iopub.status.idle": "2024-07-06T17:52:13.016884Z",
     "shell.execute_reply": "2024-07-06T17:52:13.015999Z"
    },
    "papermill": {
     "duration": 0.887518,
     "end_time": "2024-07-06T17:52:13.019166",
     "exception": false,
     "start_time": "2024-07-06T17:52:12.131648",
     "status": "completed"
    },
    "tags": []
   },
   "outputs": [
    {
     "data": {
      "text/html": [
       "<div>\n",
       "<style scoped>\n",
       "    .dataframe tbody tr th:only-of-type {\n",
       "        vertical-align: middle;\n",
       "    }\n",
       "\n",
       "    .dataframe tbody tr th {\n",
       "        vertical-align: top;\n",
       "    }\n",
       "\n",
       "    .dataframe thead th {\n",
       "        text-align: right;\n",
       "    }\n",
       "</style>\n",
       "<table border=\"1\" class=\"dataframe\">\n",
       "  <thead>\n",
       "    <tr style=\"text-align: right;\">\n",
       "      <th></th>\n",
       "      <th>id</th>\n",
       "      <th>Age</th>\n",
       "      <th>Driving_License</th>\n",
       "      <th>Region_Code</th>\n",
       "      <th>Previously_Insured</th>\n",
       "      <th>Annual_Premium</th>\n",
       "      <th>Policy_Sales_Channel</th>\n",
       "      <th>Vintage</th>\n",
       "      <th>Gender_Male</th>\n",
       "      <th>Vehicle_Age_&lt; 1 Year</th>\n",
       "      <th>Vehicle_Age_&gt; 2 Years</th>\n",
       "      <th>Vehicle_Damage_Yes</th>\n",
       "    </tr>\n",
       "  </thead>\n",
       "  <tbody>\n",
       "    <tr>\n",
       "      <th>0</th>\n",
       "      <td>11504798</td>\n",
       "      <td>20</td>\n",
       "      <td>1</td>\n",
       "      <td>47</td>\n",
       "      <td>0</td>\n",
       "      <td>2630</td>\n",
       "      <td>160</td>\n",
       "      <td>228</td>\n",
       "      <td>0</td>\n",
       "      <td>1</td>\n",
       "      <td>0</td>\n",
       "      <td>0</td>\n",
       "    </tr>\n",
       "    <tr>\n",
       "      <th>1</th>\n",
       "      <td>11504799</td>\n",
       "      <td>47</td>\n",
       "      <td>1</td>\n",
       "      <td>28</td>\n",
       "      <td>0</td>\n",
       "      <td>37483</td>\n",
       "      <td>124</td>\n",
       "      <td>123</td>\n",
       "      <td>1</td>\n",
       "      <td>0</td>\n",
       "      <td>0</td>\n",
       "      <td>1</td>\n",
       "    </tr>\n",
       "    <tr>\n",
       "      <th>2</th>\n",
       "      <td>11504800</td>\n",
       "      <td>47</td>\n",
       "      <td>1</td>\n",
       "      <td>43</td>\n",
       "      <td>0</td>\n",
       "      <td>2630</td>\n",
       "      <td>26</td>\n",
       "      <td>271</td>\n",
       "      <td>1</td>\n",
       "      <td>0</td>\n",
       "      <td>0</td>\n",
       "      <td>1</td>\n",
       "    </tr>\n",
       "    <tr>\n",
       "      <th>3</th>\n",
       "      <td>11504801</td>\n",
       "      <td>22</td>\n",
       "      <td>1</td>\n",
       "      <td>47</td>\n",
       "      <td>1</td>\n",
       "      <td>24502</td>\n",
       "      <td>152</td>\n",
       "      <td>115</td>\n",
       "      <td>0</td>\n",
       "      <td>1</td>\n",
       "      <td>0</td>\n",
       "      <td>0</td>\n",
       "    </tr>\n",
       "    <tr>\n",
       "      <th>4</th>\n",
       "      <td>11504802</td>\n",
       "      <td>51</td>\n",
       "      <td>1</td>\n",
       "      <td>19</td>\n",
       "      <td>0</td>\n",
       "      <td>34115</td>\n",
       "      <td>124</td>\n",
       "      <td>148</td>\n",
       "      <td>1</td>\n",
       "      <td>0</td>\n",
       "      <td>0</td>\n",
       "      <td>0</td>\n",
       "    </tr>\n",
       "  </tbody>\n",
       "</table>\n",
       "</div>"
      ],
      "text/plain": [
       "         id  Age  Driving_License  Region_Code  Previously_Insured  \\\n",
       "0  11504798   20                1           47                   0   \n",
       "1  11504799   47                1           28                   0   \n",
       "2  11504800   47                1           43                   0   \n",
       "3  11504801   22                1           47                   1   \n",
       "4  11504802   51                1           19                   0   \n",
       "\n",
       "   Annual_Premium  Policy_Sales_Channel  Vintage  Gender_Male  \\\n",
       "0            2630                   160      228            0   \n",
       "1           37483                   124      123            1   \n",
       "2            2630                    26      271            1   \n",
       "3           24502                   152      115            0   \n",
       "4           34115                   124      148            1   \n",
       "\n",
       "   Vehicle_Age_< 1 Year  Vehicle_Age_> 2 Years  Vehicle_Damage_Yes  \n",
       "0                     1                      0                   0  \n",
       "1                     0                      0                   1  \n",
       "2                     0                      0                   1  \n",
       "3                     1                      0                   0  \n",
       "4                     0                      0                   0  "
      ]
     },
     "execution_count": 26,
     "metadata": {},
     "output_type": "execute_result"
    }
   ],
   "source": [
    "colums_encode_ts = ['Gender', 'Vehicle_Age', 'Vehicle_Damage']\n",
    "df_ts_encoded = pd.get_dummies(df_ts, columns = colums_encode_ts , drop_first = True).astype(int)\n",
    "df_ts_encoded.head()"
   ]
  },
  {
   "cell_type": "code",
   "execution_count": 27,
   "id": "47728211",
   "metadata": {
    "execution": {
     "iopub.execute_input": "2024-07-06T17:52:13.059113Z",
     "iopub.status.busy": "2024-07-06T17:52:13.058824Z",
     "iopub.status.idle": "2024-07-06T17:52:13.063712Z",
     "shell.execute_reply": "2024-07-06T17:52:13.062877Z"
    },
    "papermill": {
     "duration": 0.0266,
     "end_time": "2024-07-06T17:52:13.065646",
     "exception": false,
     "start_time": "2024-07-06T17:52:13.039046",
     "status": "completed"
    },
    "tags": []
   },
   "outputs": [],
   "source": [
    "df_tr = df_tr_encoded\n",
    "df_ts = df_ts_encoded"
   ]
  },
  {
   "cell_type": "markdown",
   "id": "68b30a56",
   "metadata": {
    "papermill": {
     "duration": 0.018437,
     "end_time": "2024-07-06T17:52:13.102671",
     "exception": false,
     "start_time": "2024-07-06T17:52:13.084234",
     "status": "completed"
    },
    "tags": []
   },
   "source": [
    "Other methods, like label encoding, weren't used as they can mislead the model by implying a rank or order among categories. 🔢🚫"
   ]
  },
  {
   "cell_type": "code",
   "execution_count": 28,
   "id": "8b8282ce",
   "metadata": {
    "execution": {
     "iopub.execute_input": "2024-07-06T17:52:13.141384Z",
     "iopub.status.busy": "2024-07-06T17:52:13.140817Z",
     "iopub.status.idle": "2024-07-06T17:52:13.152954Z",
     "shell.execute_reply": "2024-07-06T17:52:13.152108Z"
    },
    "papermill": {
     "duration": 0.033696,
     "end_time": "2024-07-06T17:52:13.154949",
     "exception": false,
     "start_time": "2024-07-06T17:52:13.121253",
     "status": "completed"
    },
    "tags": []
   },
   "outputs": [
    {
     "data": {
      "text/html": [
       "<div>\n",
       "<style scoped>\n",
       "    .dataframe tbody tr th:only-of-type {\n",
       "        vertical-align: middle;\n",
       "    }\n",
       "\n",
       "    .dataframe tbody tr th {\n",
       "        vertical-align: top;\n",
       "    }\n",
       "\n",
       "    .dataframe thead th {\n",
       "        text-align: right;\n",
       "    }\n",
       "</style>\n",
       "<table border=\"1\" class=\"dataframe\">\n",
       "  <thead>\n",
       "    <tr style=\"text-align: right;\">\n",
       "      <th></th>\n",
       "      <th>id</th>\n",
       "      <th>Age</th>\n",
       "      <th>Driving_License</th>\n",
       "      <th>Region_Code</th>\n",
       "      <th>Previously_Insured</th>\n",
       "      <th>Annual_Premium</th>\n",
       "      <th>Policy_Sales_Channel</th>\n",
       "      <th>Vintage</th>\n",
       "      <th>Response</th>\n",
       "      <th>Gender_Male</th>\n",
       "      <th>Vehicle_Age_&lt; 1 Year</th>\n",
       "      <th>Vehicle_Age_&gt; 2 Years</th>\n",
       "      <th>Vehicle_Damage_Yes</th>\n",
       "    </tr>\n",
       "  </thead>\n",
       "  <tbody>\n",
       "    <tr>\n",
       "      <th>0</th>\n",
       "      <td>0</td>\n",
       "      <td>21</td>\n",
       "      <td>1</td>\n",
       "      <td>35</td>\n",
       "      <td>0</td>\n",
       "      <td>65101</td>\n",
       "      <td>124</td>\n",
       "      <td>187</td>\n",
       "      <td>0</td>\n",
       "      <td>1</td>\n",
       "      <td>0</td>\n",
       "      <td>0</td>\n",
       "      <td>1</td>\n",
       "    </tr>\n",
       "    <tr>\n",
       "      <th>1</th>\n",
       "      <td>1</td>\n",
       "      <td>43</td>\n",
       "      <td>1</td>\n",
       "      <td>28</td>\n",
       "      <td>0</td>\n",
       "      <td>58911</td>\n",
       "      <td>26</td>\n",
       "      <td>288</td>\n",
       "      <td>1</td>\n",
       "      <td>1</td>\n",
       "      <td>0</td>\n",
       "      <td>1</td>\n",
       "      <td>1</td>\n",
       "    </tr>\n",
       "    <tr>\n",
       "      <th>2</th>\n",
       "      <td>2</td>\n",
       "      <td>25</td>\n",
       "      <td>1</td>\n",
       "      <td>14</td>\n",
       "      <td>1</td>\n",
       "      <td>38043</td>\n",
       "      <td>152</td>\n",
       "      <td>254</td>\n",
       "      <td>0</td>\n",
       "      <td>0</td>\n",
       "      <td>1</td>\n",
       "      <td>0</td>\n",
       "      <td>0</td>\n",
       "    </tr>\n",
       "    <tr>\n",
       "      <th>3</th>\n",
       "      <td>3</td>\n",
       "      <td>35</td>\n",
       "      <td>1</td>\n",
       "      <td>1</td>\n",
       "      <td>0</td>\n",
       "      <td>2630</td>\n",
       "      <td>156</td>\n",
       "      <td>76</td>\n",
       "      <td>0</td>\n",
       "      <td>0</td>\n",
       "      <td>0</td>\n",
       "      <td>0</td>\n",
       "      <td>1</td>\n",
       "    </tr>\n",
       "    <tr>\n",
       "      <th>4</th>\n",
       "      <td>4</td>\n",
       "      <td>36</td>\n",
       "      <td>1</td>\n",
       "      <td>15</td>\n",
       "      <td>1</td>\n",
       "      <td>31951</td>\n",
       "      <td>152</td>\n",
       "      <td>294</td>\n",
       "      <td>0</td>\n",
       "      <td>0</td>\n",
       "      <td>0</td>\n",
       "      <td>0</td>\n",
       "      <td>0</td>\n",
       "    </tr>\n",
       "  </tbody>\n",
       "</table>\n",
       "</div>"
      ],
      "text/plain": [
       "   id  Age  Driving_License  Region_Code  Previously_Insured  Annual_Premium  \\\n",
       "0   0   21                1           35                   0           65101   \n",
       "1   1   43                1           28                   0           58911   \n",
       "2   2   25                1           14                   1           38043   \n",
       "3   3   35                1            1                   0            2630   \n",
       "4   4   36                1           15                   1           31951   \n",
       "\n",
       "   Policy_Sales_Channel  Vintage  Response  Gender_Male  Vehicle_Age_< 1 Year  \\\n",
       "0                   124      187         0            1                     0   \n",
       "1                    26      288         1            1                     0   \n",
       "2                   152      254         0            0                     1   \n",
       "3                   156       76         0            0                     0   \n",
       "4                   152      294         0            0                     0   \n",
       "\n",
       "   Vehicle_Age_> 2 Years  Vehicle_Damage_Yes  \n",
       "0                      0                   1  \n",
       "1                      1                   1  \n",
       "2                      0                   0  \n",
       "3                      0                   1  \n",
       "4                      0                   0  "
      ]
     },
     "execution_count": 28,
     "metadata": {},
     "output_type": "execute_result"
    }
   ],
   "source": [
    "df_tr.head()"
   ]
  },
  {
   "cell_type": "code",
   "execution_count": 29,
   "id": "398e5e6c",
   "metadata": {
    "execution": {
     "iopub.execute_input": "2024-07-06T17:52:13.194505Z",
     "iopub.status.busy": "2024-07-06T17:52:13.193708Z",
     "iopub.status.idle": "2024-07-06T17:52:13.205257Z",
     "shell.execute_reply": "2024-07-06T17:52:13.204383Z"
    },
    "papermill": {
     "duration": 0.033206,
     "end_time": "2024-07-06T17:52:13.207120",
     "exception": false,
     "start_time": "2024-07-06T17:52:13.173914",
     "status": "completed"
    },
    "tags": []
   },
   "outputs": [
    {
     "data": {
      "text/html": [
       "<div>\n",
       "<style scoped>\n",
       "    .dataframe tbody tr th:only-of-type {\n",
       "        vertical-align: middle;\n",
       "    }\n",
       "\n",
       "    .dataframe tbody tr th {\n",
       "        vertical-align: top;\n",
       "    }\n",
       "\n",
       "    .dataframe thead th {\n",
       "        text-align: right;\n",
       "    }\n",
       "</style>\n",
       "<table border=\"1\" class=\"dataframe\">\n",
       "  <thead>\n",
       "    <tr style=\"text-align: right;\">\n",
       "      <th></th>\n",
       "      <th>id</th>\n",
       "      <th>Age</th>\n",
       "      <th>Driving_License</th>\n",
       "      <th>Region_Code</th>\n",
       "      <th>Previously_Insured</th>\n",
       "      <th>Annual_Premium</th>\n",
       "      <th>Policy_Sales_Channel</th>\n",
       "      <th>Vintage</th>\n",
       "      <th>Gender_Male</th>\n",
       "      <th>Vehicle_Age_&lt; 1 Year</th>\n",
       "      <th>Vehicle_Age_&gt; 2 Years</th>\n",
       "      <th>Vehicle_Damage_Yes</th>\n",
       "    </tr>\n",
       "  </thead>\n",
       "  <tbody>\n",
       "    <tr>\n",
       "      <th>0</th>\n",
       "      <td>11504798</td>\n",
       "      <td>20</td>\n",
       "      <td>1</td>\n",
       "      <td>47</td>\n",
       "      <td>0</td>\n",
       "      <td>2630</td>\n",
       "      <td>160</td>\n",
       "      <td>228</td>\n",
       "      <td>0</td>\n",
       "      <td>1</td>\n",
       "      <td>0</td>\n",
       "      <td>0</td>\n",
       "    </tr>\n",
       "    <tr>\n",
       "      <th>1</th>\n",
       "      <td>11504799</td>\n",
       "      <td>47</td>\n",
       "      <td>1</td>\n",
       "      <td>28</td>\n",
       "      <td>0</td>\n",
       "      <td>37483</td>\n",
       "      <td>124</td>\n",
       "      <td>123</td>\n",
       "      <td>1</td>\n",
       "      <td>0</td>\n",
       "      <td>0</td>\n",
       "      <td>1</td>\n",
       "    </tr>\n",
       "    <tr>\n",
       "      <th>2</th>\n",
       "      <td>11504800</td>\n",
       "      <td>47</td>\n",
       "      <td>1</td>\n",
       "      <td>43</td>\n",
       "      <td>0</td>\n",
       "      <td>2630</td>\n",
       "      <td>26</td>\n",
       "      <td>271</td>\n",
       "      <td>1</td>\n",
       "      <td>0</td>\n",
       "      <td>0</td>\n",
       "      <td>1</td>\n",
       "    </tr>\n",
       "    <tr>\n",
       "      <th>3</th>\n",
       "      <td>11504801</td>\n",
       "      <td>22</td>\n",
       "      <td>1</td>\n",
       "      <td>47</td>\n",
       "      <td>1</td>\n",
       "      <td>24502</td>\n",
       "      <td>152</td>\n",
       "      <td>115</td>\n",
       "      <td>0</td>\n",
       "      <td>1</td>\n",
       "      <td>0</td>\n",
       "      <td>0</td>\n",
       "    </tr>\n",
       "    <tr>\n",
       "      <th>4</th>\n",
       "      <td>11504802</td>\n",
       "      <td>51</td>\n",
       "      <td>1</td>\n",
       "      <td>19</td>\n",
       "      <td>0</td>\n",
       "      <td>34115</td>\n",
       "      <td>124</td>\n",
       "      <td>148</td>\n",
       "      <td>1</td>\n",
       "      <td>0</td>\n",
       "      <td>0</td>\n",
       "      <td>0</td>\n",
       "    </tr>\n",
       "  </tbody>\n",
       "</table>\n",
       "</div>"
      ],
      "text/plain": [
       "         id  Age  Driving_License  Region_Code  Previously_Insured  \\\n",
       "0  11504798   20                1           47                   0   \n",
       "1  11504799   47                1           28                   0   \n",
       "2  11504800   47                1           43                   0   \n",
       "3  11504801   22                1           47                   1   \n",
       "4  11504802   51                1           19                   0   \n",
       "\n",
       "   Annual_Premium  Policy_Sales_Channel  Vintage  Gender_Male  \\\n",
       "0            2630                   160      228            0   \n",
       "1           37483                   124      123            1   \n",
       "2            2630                    26      271            1   \n",
       "3           24502                   152      115            0   \n",
       "4           34115                   124      148            1   \n",
       "\n",
       "   Vehicle_Age_< 1 Year  Vehicle_Age_> 2 Years  Vehicle_Damage_Yes  \n",
       "0                     1                      0                   0  \n",
       "1                     0                      0                   1  \n",
       "2                     0                      0                   1  \n",
       "3                     1                      0                   0  \n",
       "4                     0                      0                   0  "
      ]
     },
     "execution_count": 29,
     "metadata": {},
     "output_type": "execute_result"
    }
   ],
   "source": [
    "df_ts.head()"
   ]
  },
  {
   "cell_type": "markdown",
   "id": "c73ea22b",
   "metadata": {
    "papermill": {
     "duration": 0.019257,
     "end_time": "2024-07-06T17:52:13.245968",
     "exception": false,
     "start_time": "2024-07-06T17:52:13.226711",
     "status": "completed"
    },
    "tags": []
   },
   "source": [
    "## Model Development\n",
    "\n",
    "**🎯 Model Aims:** 🏆 Predict the response variable with high accuracy, specifically aiming for a validation AUC of 0.90.\n",
    "\n",
    "**🛠️ Behind the Scenes:**\n",
    "\n",
    "📚 Learning Patterns: Analyzes input features to find relationships with the target.\n",
    "\n",
    "🧠 Training: Adjusts parameters iteratively to minimize errors.\n",
    "\n",
    "📝 Validation: Checks performance on unseen data to ensure generalization."
   ]
  },
  {
   "cell_type": "code",
   "execution_count": 30,
   "id": "07f73a18",
   "metadata": {
    "execution": {
     "iopub.execute_input": "2024-07-06T17:52:13.285846Z",
     "iopub.status.busy": "2024-07-06T17:52:13.285568Z",
     "iopub.status.idle": "2024-07-06T17:52:13.679828Z",
     "shell.execute_reply": "2024-07-06T17:52:13.678967Z"
    },
    "papermill": {
     "duration": 0.416523,
     "end_time": "2024-07-06T17:52:13.682110",
     "exception": false,
     "start_time": "2024-07-06T17:52:13.265587",
     "status": "completed"
    },
    "tags": []
   },
   "outputs": [],
   "source": [
    "#Let's make data available for the model\n",
    "X_tr = df_tr.drop(columns = ['Response'])\n",
    "y_tr = df_tr['Response']"
   ]
  },
  {
   "cell_type": "markdown",
   "id": "6f5ab668",
   "metadata": {
    "papermill": {
     "duration": 0.019346,
     "end_time": "2024-07-06T17:52:13.721497",
     "exception": false,
     "start_time": "2024-07-06T17:52:13.702151",
     "status": "completed"
    },
    "tags": []
   },
   "source": [
    "## CatBoost Model\n",
    "**Choosing CatBoost:**\n",
    "\n",
    "1. Categorical Handling:\n",
    "\n",
    "🚀 Directly supports categorical features, simplifying preprocessing.\n",
    "\n",
    "2. Performance:\n",
    "\n",
    "🏃‍♂️ Fast training and prediction.\n",
    "📈 High accuracy, demonstrated by our AUC scores.\n",
    "\n",
    "3. Overfitting Prevention:\n",
    "\n",
    "🛡️ Uses techniques like ordered boosting.\n",
    "\n",
    "4. Ease of Use:\n",
    "\n",
    "🧩 Simple hyperparameter tuning.\n",
    "🔧 Automatic handling of missing values and various data types."
   ]
  },
  {
   "cell_type": "markdown",
   "id": "1253e961",
   "metadata": {
    "papermill": {
     "duration": 0.019113,
     "end_time": "2024-07-06T17:52:13.760022",
     "exception": false,
     "start_time": "2024-07-06T17:52:13.740909",
     "status": "completed"
    },
    "tags": []
   },
   "source": [
    ">**Why Not XGBoost & RandomForestClassifier:**\n",
    "\n",
    "🐍 XGBoost/LightGBM require more complex preprocessing & have problems with invalid characters in feature names i.e > or -.\n",
    "\n",
    "📊 Logistic Regression/Random Forest didn't perform as well."
   ]
  },
  {
   "cell_type": "code",
   "execution_count": 31,
   "id": "39208841",
   "metadata": {
    "execution": {
     "iopub.execute_input": "2024-07-06T17:52:13.800081Z",
     "iopub.status.busy": "2024-07-06T17:52:13.799733Z",
     "iopub.status.idle": "2024-07-06T17:52:14.202196Z",
     "shell.execute_reply": "2024-07-06T17:52:14.201172Z"
    },
    "papermill": {
     "duration": 0.425552,
     "end_time": "2024-07-06T17:52:14.204772",
     "exception": false,
     "start_time": "2024-07-06T17:52:13.779220",
     "status": "completed"
    },
    "tags": []
   },
   "outputs": [],
   "source": [
    "from catboost import CatBoostClassifier\n",
    "from sklearn.model_selection import GridSearchCV, StratifiedKFold\n",
    "from sklearn.metrics import roc_auc_score\n",
    "import numpy as np"
   ]
  },
  {
   "cell_type": "code",
   "execution_count": 32,
   "id": "4f113010",
   "metadata": {
    "execution": {
     "iopub.execute_input": "2024-07-06T17:52:14.248653Z",
     "iopub.status.busy": "2024-07-06T17:52:14.247813Z",
     "iopub.status.idle": "2024-07-06T17:52:14.259802Z",
     "shell.execute_reply": "2024-07-06T17:52:14.258823Z"
    },
    "papermill": {
     "duration": 0.035913,
     "end_time": "2024-07-06T17:52:14.262075",
     "exception": false,
     "start_time": "2024-07-06T17:52:14.226162",
     "status": "completed"
    },
    "tags": []
   },
   "outputs": [],
   "source": [
    "# Cross validation function to obtain model scores for catboost\n",
    "def cross_validate_model_catboost(model, X, y, n_splits=10, seed=42):\n",
    "    skf = StratifiedKFold(n_splits=n_splits, shuffle=True, random_state=seed)\n",
    "    train_scores = []\n",
    "    val_scores = []\n",
    "    \n",
    "    for fold, (train_index, val_index) in enumerate(skf.split(X, y), 1):\n",
    "        X_train, X_val = X.iloc[train_index], X.iloc[val_index]\n",
    "        y_train, y_val = y.iloc[train_index], y.iloc[val_index]\n",
    "        \n",
    "        model.fit(X_train, y_train, eval_set=(X_val, y_val), early_stopping_rounds=100, verbose=100)\n",
    "        \n",
    "        y_train_pred_proba = model.predict_proba(X_train)[:, 1]\n",
    "        train_auc = roc_auc_score(y_train, y_train_pred_proba)\n",
    "        train_scores.append(train_auc)\n",
    "        \n",
    "        y_val_pred_proba = model.predict_proba(X_val)[:, 1]\n",
    "        val_auc = roc_auc_score(y_val, y_val_pred_proba)\n",
    "        val_scores.append(val_auc)\n",
    "        \n",
    "        print(f\"Fold {fold}: Train AUC = {train_auc:.4f}, Validation AUC = {val_auc:.4f}\")\n",
    "\n",
    "    mean_train_auc = np.mean(train_scores)\n",
    "    mean_val_auc = np.mean(val_scores)\n",
    "    \n",
    "    print(f\"\\nMean Train AUC: {mean_train_auc:.4f}\")\n",
    "    print(f\"Mean Validation AUC: {mean_val_auc:.4f}\")\n",
    "    \n",
    "    return model, train_scores, val_scores"
   ]
  },
  {
   "cell_type": "code",
   "execution_count": 33,
   "id": "70222e05",
   "metadata": {
    "execution": {
     "iopub.execute_input": "2024-07-06T17:52:14.318093Z",
     "iopub.status.busy": "2024-07-06T17:52:14.317795Z",
     "iopub.status.idle": "2024-07-06T17:52:14.322206Z",
     "shell.execute_reply": "2024-07-06T17:52:14.321330Z"
    },
    "papermill": {
     "duration": 0.035979,
     "end_time": "2024-07-06T17:52:14.324084",
     "exception": false,
     "start_time": "2024-07-06T17:52:14.288105",
     "status": "completed"
    },
    "tags": []
   },
   "outputs": [],
   "source": [
    "# Define the parameter grid\n",
    "param_grid = {\n",
    "    'iterations': [200, 500],\n",
    "    'depth': [6, 8],\n",
    "    'learning_rate': [0.01, 0.05],\n",
    "    'l2_leaf_reg': [1, 3]\n",
    "}"
   ]
  },
  {
   "cell_type": "code",
   "execution_count": 34,
   "id": "8fe90467",
   "metadata": {
    "execution": {
     "iopub.execute_input": "2024-07-06T17:52:14.363757Z",
     "iopub.status.busy": "2024-07-06T17:52:14.363509Z",
     "iopub.status.idle": "2024-07-06T17:52:14.370336Z",
     "shell.execute_reply": "2024-07-06T17:52:14.369486Z"
    },
    "papermill": {
     "duration": 0.028747,
     "end_time": "2024-07-06T17:52:14.372286",
     "exception": false,
     "start_time": "2024-07-06T17:52:14.343539",
     "status": "completed"
    },
    "tags": []
   },
   "outputs": [],
   "source": [
    "#Set the model on CPU\n",
    "grid_search = GridSearchCV(\n",
    "    estimator=CatBoostClassifier(task_type='CPU', verbose=100, random_state=42),\n",
    "    param_grid=param_grid,\n",
    "    scoring='roc_auc',\n",
    "    cv=3,\n",
    "    verbose=2,\n",
    "    n_jobs=-1)"
   ]
  },
  {
   "cell_type": "code",
   "execution_count": 35,
   "id": "6238a274",
   "metadata": {
    "execution": {
     "iopub.execute_input": "2024-07-06T17:52:14.412067Z",
     "iopub.status.busy": "2024-07-06T17:52:14.411344Z",
     "iopub.status.idle": "2024-07-06T21:50:30.354523Z",
     "shell.execute_reply": "2024-07-06T21:50:30.353313Z"
    },
    "papermill": {
     "duration": 14295.987311,
     "end_time": "2024-07-06T21:50:30.378711",
     "exception": false,
     "start_time": "2024-07-06T17:52:14.391400",
     "status": "completed"
    },
    "tags": []
   },
   "outputs": [
    {
     "name": "stdout",
     "output_type": "stream",
     "text": [
      "Fitting 3 folds for each of 16 candidates, totalling 48 fits\n",
      "0:\tlearn: 0.5956760\ttotal: 3.68s\tremaining: 12m 11s\n",
      "100:\tlearn: 0.2621603\ttotal: 5m 3s\tremaining: 4m 57s\n",
      "199:\tlearn: 0.2597150\ttotal: 9m 51s\tremaining: 0us\n",
      "[CV] END depth=6, iterations=200, l2_leaf_reg=1, learning_rate=0.05; total time=10.2min\n",
      "0:\tlearn: 0.5958812\ttotal: 2.3s\tremaining: 7m 37s\n",
      "100:\tlearn: 0.2623999\ttotal: 4m 52s\tremaining: 4m 46s\n",
      "199:\tlearn: 0.2598457\ttotal: 9m 35s\tremaining: 0us\n",
      "[CV] END depth=6, iterations=200, l2_leaf_reg=1, learning_rate=0.05; total time=10.0min\n",
      "0:\tlearn: 0.6730251\ttotal: 3.6s\tremaining: 11m 56s\n",
      "100:\tlearn: 0.2815705\ttotal: 5m 15s\tremaining: 5m 9s\n",
      "199:\tlearn: 0.2679061\ttotal: 10m 13s\tremaining: 0us\n",
      "[CV] END depth=6, iterations=200, l2_leaf_reg=1, learning_rate=0.01; total time=10.5min\n",
      "0:\tlearn: 0.5970468\ttotal: 2.87s\tremaining: 9m 30s\n",
      "100:\tlearn: 0.2623101\ttotal: 5m 1s\tremaining: 4m 55s\n",
      "199:\tlearn: 0.2598928\ttotal: 9m 41s\tremaining: 0us\n",
      "[CV] END depth=6, iterations=200, l2_leaf_reg=1, learning_rate=0.05; total time=10.0min\n",
      "0:\tlearn: 0.6730622\ttotal: 3.65s\tremaining: 12m 6s\n",
      "100:\tlearn: 0.2816570\ttotal: 5m 18s\tremaining: 5m 12s\n",
      "199:\tlearn: 0.2679704\ttotal: 10m 16s\tremaining: 0us\n",
      "[CV] END depth=6, iterations=200, l2_leaf_reg=1, learning_rate=0.01; total time=10.6min\n",
      "0:\tlearn: 0.6731266\ttotal: 3.73s\tremaining: 12m 21s\n",
      "100:\tlearn: 0.2815010\ttotal: 5m 15s\tremaining: 5m 9s\n",
      "199:\tlearn: 0.2676898\ttotal: 10m 5s\tremaining: 0us\n",
      "[CV] END depth=6, iterations=200, l2_leaf_reg=3, learning_rate=0.01; total time=10.4min\n",
      "0:\tlearn: 0.6731263\ttotal: 3.35s\tremaining: 11m 7s\n",
      "100:\tlearn: 0.2816686\ttotal: 5m 15s\tremaining: 5m 9s\n",
      "199:\tlearn: 0.2678334\ttotal: 10m 17s\tremaining: 0us\n",
      "[CV] END depth=6, iterations=200, l2_leaf_reg=1, learning_rate=0.01; total time=10.6min\n",
      "0:\tlearn: 0.6730624\ttotal: 3.75s\tremaining: 12m 25s\n",
      "100:\tlearn: 0.2815276\ttotal: 5m 17s\tremaining: 5m 11s\n",
      "199:\tlearn: 0.2679360\ttotal: 10m 5s\tremaining: 0us\n",
      "[CV] END depth=6, iterations=200, l2_leaf_reg=3, learning_rate=0.01; total time=10.4min\n",
      "0:\tlearn: 0.5958867\ttotal: 3.54s\tremaining: 11m 43s\n",
      "100:\tlearn: 0.2623145\ttotal: 5m 3s\tremaining: 4m 57s\n",
      "199:\tlearn: 0.2599062\ttotal: 9m 42s\tremaining: 0us\n",
      "[CV] END depth=6, iterations=200, l2_leaf_reg=3, learning_rate=0.05; total time=10.1min\n",
      "0:\tlearn: 0.5956760\ttotal: 3.47s\tremaining: 28m 49s\n",
      "100:\tlearn: 0.2621603\ttotal: 5m 3s\tremaining: 19m 58s\n",
      "200:\tlearn: 0.2596721\ttotal: 9m 51s\tremaining: 14m 40s\n",
      "300:\tlearn: 0.2581901\ttotal: 14m 42s\tremaining: 9m 43s\n",
      "400:\tlearn: 0.2570024\ttotal: 19m 30s\tremaining: 4m 48s\n",
      "499:\tlearn: 0.2562018\ttotal: 24m 10s\tremaining: 0us\n",
      "[CV] END depth=6, iterations=500, l2_leaf_reg=1, learning_rate=0.05; total time=24.6min\n",
      "0:\tlearn: 0.6730429\ttotal: 2.96s\tremaining: 9m 49s\n",
      "100:\tlearn: 0.2815937\ttotal: 5m 5s\tremaining: 4m 59s\n",
      "199:\tlearn: 0.2678023\ttotal: 10m 3s\tremaining: 0us\n",
      "[CV] END depth=6, iterations=200, l2_leaf_reg=3, learning_rate=0.01; total time=10.4min\n",
      "0:\tlearn: 0.6730622\ttotal: 2.52s\tremaining: 20m 55s\n",
      "100:\tlearn: 0.2816570\ttotal: 5m 9s\tremaining: 20m 22s\n",
      "200:\tlearn: 0.2679165\ttotal: 10m 10s\tremaining: 15m 8s\n",
      "300:\tlearn: 0.2648545\ttotal: 15m 4s\tremaining: 9m 57s\n",
      "400:\tlearn: 0.2634138\ttotal: 19m 57s\tremaining: 4m 55s\n",
      "499:\tlearn: 0.2624882\ttotal: 24m 37s\tremaining: 0us\n",
      "[CV] END depth=6, iterations=500, l2_leaf_reg=1, learning_rate=0.01; total time=25.0min\n",
      "0:\tlearn: 0.5956844\ttotal: 2.52s\tremaining: 8m 21s\n",
      "100:\tlearn: 0.2622353\ttotal: 4m 57s\tremaining: 4m 52s\n",
      "199:\tlearn: 0.2596913\ttotal: 9m 41s\tremaining: 0us\n",
      "[CV] END depth=6, iterations=200, l2_leaf_reg=3, learning_rate=0.05; total time=10.1min\n",
      "0:\tlearn: 0.6731263\ttotal: 2.49s\tremaining: 20m 40s\n",
      "100:\tlearn: 0.2816686\ttotal: 5m 6s\tremaining: 20m 12s\n",
      "200:\tlearn: 0.2677618\ttotal: 10m 10s\tremaining: 15m 8s\n",
      "300:\tlearn: 0.2646863\ttotal: 15m 4s\tremaining: 9m 58s\n",
      "400:\tlearn: 0.2632717\ttotal: 19m 57s\tremaining: 4m 55s\n",
      "499:\tlearn: 0.2623257\ttotal: 24m 39s\tremaining: 0us\n",
      "[CV] END depth=6, iterations=500, l2_leaf_reg=1, learning_rate=0.01; total time=25.0min\n",
      "0:\tlearn: 0.5970947\ttotal: 3.58s\tremaining: 11m 52s\n",
      "100:\tlearn: 0.2623003\ttotal: 5m 3s\tremaining: 4m 57s\n",
      "199:\tlearn: 0.2598347\ttotal: 9m 39s\tremaining: 0us\n",
      "[CV] END depth=6, iterations=200, l2_leaf_reg=3, learning_rate=0.05; total time=10.0min\n",
      "0:\tlearn: 0.6730251\ttotal: 3s\tremaining: 24m 57s\n",
      "100:\tlearn: 0.2815705\ttotal: 5m 12s\tremaining: 20m 34s\n",
      "200:\tlearn: 0.2678517\ttotal: 10m 13s\tremaining: 15m 12s\n",
      "300:\tlearn: 0.2647741\ttotal: 15m 11s\tremaining: 10m 2s\n",
      "400:\tlearn: 0.2634082\ttotal: 20m 1s\tremaining: 4m 56s\n",
      "499:\tlearn: 0.2624361\ttotal: 24m 37s\tremaining: 0us\n",
      "[CV] END depth=6, iterations=500, l2_leaf_reg=1, learning_rate=0.01; total time=25.0min\n",
      "0:\tlearn: 0.5958812\ttotal: 2.49s\tremaining: 20m 44s\n",
      "100:\tlearn: 0.2623999\ttotal: 4m 55s\tremaining: 19m 26s\n",
      "200:\tlearn: 0.2598276\ttotal: 9m 42s\tremaining: 14m 25s\n",
      "300:\tlearn: 0.2583091\ttotal: 14m 26s\tremaining: 9m 33s\n",
      "400:\tlearn: 0.2571827\ttotal: 19m 11s\tremaining: 4m 44s\n",
      "499:\tlearn: 0.2563712\ttotal: 23m 54s\tremaining: 0us\n",
      "[CV] END depth=6, iterations=500, l2_leaf_reg=1, learning_rate=0.05; total time=24.3min\n",
      "0:\tlearn: 0.5956844\ttotal: 3.29s\tremaining: 27m 19s\n",
      "100:\tlearn: 0.2622353\ttotal: 4m 56s\tremaining: 19m 33s\n",
      "200:\tlearn: 0.2596732\ttotal: 9m 45s\tremaining: 14m 30s\n",
      "300:\tlearn: 0.2581769\ttotal: 14m 33s\tremaining: 9m 37s\n",
      "400:\tlearn: 0.2569471\ttotal: 19m 20s\tremaining: 4m 46s\n",
      "499:\tlearn: 0.2561188\ttotal: 24m 3s\tremaining: 0us\n",
      "[CV] END depth=6, iterations=500, l2_leaf_reg=3, learning_rate=0.05; total time=24.5min\n",
      "0:\tlearn: 0.5970468\ttotal: 2.73s\tremaining: 22m 44s\n",
      "100:\tlearn: 0.2623101\ttotal: 4m 53s\tremaining: 19m 20s\n",
      "200:\tlearn: 0.2598795\ttotal: 9m 37s\tremaining: 14m 19s\n",
      "300:\tlearn: 0.2583753\ttotal: 14m 20s\tremaining: 9m 29s\n",
      "400:\tlearn: 0.2572756\ttotal: 19m 6s\tremaining: 4m 42s\n",
      "499:\tlearn: 0.2564089\ttotal: 23m 44s\tremaining: 0us\n",
      "[CV] END depth=6, iterations=500, l2_leaf_reg=1, learning_rate=0.05; total time=24.2min\n",
      "0:\tlearn: 0.6730429\ttotal: 3.16s\tremaining: 26m 19s\n",
      "100:\tlearn: 0.2815937\ttotal: 5m 7s\tremaining: 20m 14s\n",
      "200:\tlearn: 0.2677541\ttotal: 10m 7s\tremaining: 15m 4s\n",
      "300:\tlearn: 0.2647646\ttotal: 15m 5s\tremaining: 9m 58s\n",
      "400:\tlearn: 0.2633946\ttotal: 19m 59s\tremaining: 4m 56s\n",
      "499:\tlearn: 0.2624259\ttotal: 24m 41s\tremaining: 0us\n",
      "[CV] END depth=6, iterations=500, l2_leaf_reg=3, learning_rate=0.01; total time=25.1min\n",
      "0:\tlearn: 0.6731266\ttotal: 3.1s\tremaining: 25m 48s\n",
      "100:\tlearn: 0.2815010\ttotal: 5m 13s\tremaining: 20m 36s\n",
      "200:\tlearn: 0.2676469\ttotal: 10m 16s\tremaining: 15m 16s\n",
      "300:\tlearn: 0.2646680\ttotal: 15m 15s\tremaining: 10m 5s\n",
      "400:\tlearn: 0.2632947\ttotal: 20m 8s\tremaining: 4m 58s\n",
      "499:\tlearn: 0.2623370\ttotal: 24m 46s\tremaining: 0us\n",
      "[CV] END depth=6, iterations=500, l2_leaf_reg=3, learning_rate=0.01; total time=25.2min\n",
      "0:\tlearn: 0.5958867\ttotal: 3.11s\tremaining: 25m 51s\n",
      "100:\tlearn: 0.2623145\ttotal: 4m 59s\tremaining: 19m 43s\n",
      "200:\tlearn: 0.2598860\ttotal: 9m 47s\tremaining: 14m 33s\n",
      "300:\tlearn: 0.2583945\ttotal: 14m 31s\tremaining: 9m 36s\n",
      "400:\tlearn: 0.2571948\ttotal: 19m 14s\tremaining: 4m 45s\n",
      "499:\tlearn: 0.2564073\ttotal: 23m 50s\tremaining: 0us\n",
      "[CV] END depth=6, iterations=500, l2_leaf_reg=3, learning_rate=0.05; total time=24.3min\n",
      "0:\tlearn: 0.6730624\ttotal: 3.68s\tremaining: 30m 37s\n",
      "100:\tlearn: 0.2815276\ttotal: 5m 17s\tremaining: 20m 56s\n",
      "200:\tlearn: 0.2678870\ttotal: 10m 19s\tremaining: 15m 20s\n",
      "300:\tlearn: 0.2648430\ttotal: 15m 17s\tremaining: 10m 6s\n",
      "400:\tlearn: 0.2634335\ttotal: 20m 11s\tremaining: 4m 59s\n",
      "499:\tlearn: 0.2624915\ttotal: 24m 47s\tremaining: 0us\n",
      "[CV] END depth=6, iterations=500, l2_leaf_reg=3, learning_rate=0.01; total time=25.3min\n",
      "0:\tlearn: 0.5970947\ttotal: 3.31s\tremaining: 27m 30s\n",
      "100:\tlearn: 0.2623003\ttotal: 5m 4s\tremaining: 20m 2s\n",
      "200:\tlearn: 0.2598223\ttotal: 9m 48s\tremaining: 14m 35s\n",
      "300:\tlearn: 0.2584404\ttotal: 14m 34s\tremaining: 9m 38s\n",
      "400:\tlearn: 0.2572602\ttotal: 19m 24s\tremaining: 4m 47s\n",
      "499:\tlearn: 0.2564438\ttotal: 23m 52s\tremaining: 0us\n",
      "[CV] END depth=6, iterations=500, l2_leaf_reg=3, learning_rate=0.05; total time=24.4min\n",
      "0:\tlearn: 0.6730723\ttotal: 3.46s\tremaining: 11m 28s\n",
      "100:\tlearn: 0.2789264\ttotal: 5m 48s\tremaining: 5m 41s\n",
      "199:\tlearn: 0.2659347\ttotal: 11m 34s\tremaining: 0us\n",
      "[CV] END depth=8, iterations=200, l2_leaf_reg=1, learning_rate=0.01; total time=12.1min\n",
      "0:\tlearn: 0.5959466\ttotal: 3.79s\tremaining: 12m 33s\n",
      "100:\tlearn: 0.2609003\ttotal: 5m 38s\tremaining: 5m 32s\n",
      "199:\tlearn: 0.2583711\ttotal: 11m 9s\tremaining: 0us\n",
      "[CV] END depth=8, iterations=200, l2_leaf_reg=1, learning_rate=0.05; total time=11.6min\n",
      "0:\tlearn: 0.6729934\ttotal: 3.29s\tremaining: 10m 55s\n",
      "100:\tlearn: 0.2790720\ttotal: 5m 53s\tremaining: 5m 46s\n",
      "199:\tlearn: 0.2660296\ttotal: 11m 33s\tremaining: 0us\n",
      "[CV] END depth=8, iterations=200, l2_leaf_reg=1, learning_rate=0.01; total time=11.9min\n",
      "0:\tlearn: 0.5960605\ttotal: 2.91s\tremaining: 9m 39s\n",
      "100:\tlearn: 0.2608950\ttotal: 5m 43s\tremaining: 5m 37s\n",
      "199:\tlearn: 0.2584068\ttotal: 11m 10s\tremaining: 0us\n",
      "[CV] END depth=8, iterations=200, l2_leaf_reg=1, learning_rate=0.05; total time=11.6min\n",
      "0:\tlearn: 0.5956091\ttotal: 3.98s\tremaining: 13m 13s\n",
      "100:\tlearn: 0.2608179\ttotal: 5m 49s\tremaining: 5m 42s\n",
      "199:\tlearn: 0.2583237\ttotal: 11m 12s\tremaining: 0us\n",
      "[CV] END depth=8, iterations=200, l2_leaf_reg=1, learning_rate=0.05; total time=11.6min\n",
      "0:\tlearn: 0.6729942\ttotal: 3.87s\tremaining: 12m 50s\n",
      "100:\tlearn: 0.2794043\ttotal: 6m 4s\tremaining: 5m 56s\n",
      "199:\tlearn: 0.2660812\ttotal: 11m 35s\tremaining: 0us\n",
      "[CV] END depth=8, iterations=200, l2_leaf_reg=3, learning_rate=0.01; total time=12.0min\n",
      "0:\tlearn: 0.6729312\ttotal: 4s\tremaining: 13m 15s\n",
      "100:\tlearn: 0.2790805\ttotal: 5m 56s\tremaining: 5m 49s\n",
      "199:\tlearn: 0.2660827\ttotal: 11m 34s\tremaining: 0us\n",
      "[CV] END depth=8, iterations=200, l2_leaf_reg=1, learning_rate=0.01; total time=12.0min\n",
      "0:\tlearn: 0.6730738\ttotal: 3.06s\tremaining: 10m 8s\n",
      "100:\tlearn: 0.2789326\ttotal: 5m 59s\tremaining: 5m 52s\n",
      "199:\tlearn: 0.2659303\ttotal: 11m 36s\tremaining: 0us\n",
      "[CV] END depth=8, iterations=200, l2_leaf_reg=3, learning_rate=0.01; total time=12.0min\n",
      "0:\tlearn: 0.5959582\ttotal: 3.05s\tremaining: 10m 6s\n",
      "100:\tlearn: 0.2609248\ttotal: 5m 48s\tremaining: 5m 41s\n",
      "199:\tlearn: 0.2584261\ttotal: 11m 13s\tremaining: 0us\n",
      "[CV] END depth=8, iterations=200, l2_leaf_reg=3, learning_rate=0.05; total time=11.6min\n",
      "0:\tlearn: 0.5956229\ttotal: 4.12s\tremaining: 13m 39s\n",
      "100:\tlearn: 0.2607512\ttotal: 5m 41s\tremaining: 5m 35s\n",
      "199:\tlearn: 0.2582441\ttotal: 11m 15s\tremaining: 0us\n",
      "[CV] END depth=8, iterations=200, l2_leaf_reg=3, learning_rate=0.05; total time=11.7min\n",
      "0:\tlearn: 0.6729934\ttotal: 3.83s\tremaining: 31m 49s\n",
      "100:\tlearn: 0.2790720\ttotal: 5m 53s\tremaining: 23m 17s\n",
      "200:\tlearn: 0.2659867\ttotal: 11m 43s\tremaining: 17m 25s\n",
      "300:\tlearn: 0.2631978\ttotal: 17m 23s\tremaining: 11m 29s\n",
      "400:\tlearn: 0.2618824\ttotal: 23m 5s\tremaining: 5m 42s\n",
      "499:\tlearn: 0.2610195\ttotal: 28m 37s\tremaining: 0us\n",
      "[CV] END depth=8, iterations=500, l2_leaf_reg=1, learning_rate=0.01; total time=29.0min\n",
      "0:\tlearn: 0.6729558\ttotal: 3.58s\tremaining: 11m 51s\n",
      "100:\tlearn: 0.2791124\ttotal: 5m 50s\tremaining: 5m 43s\n",
      "199:\tlearn: 0.2660450\ttotal: 11m 36s\tremaining: 0us\n",
      "[CV] END depth=8, iterations=200, l2_leaf_reg=3, learning_rate=0.01; total time=12.0min\n",
      "0:\tlearn: 0.6730723\ttotal: 3.41s\tremaining: 28m 20s\n",
      "100:\tlearn: 0.2789264\ttotal: 5m 52s\tremaining: 23m 12s\n",
      "200:\tlearn: 0.2658924\ttotal: 11m 41s\tremaining: 17m 23s\n",
      "300:\tlearn: 0.2630407\ttotal: 17m 22s\tremaining: 11m 29s\n",
      "400:\tlearn: 0.2617412\ttotal: 23m 4s\tremaining: 5m 41s\n",
      "499:\tlearn: 0.2608789\ttotal: 28m 39s\tremaining: 0us\n",
      "[CV] END depth=8, iterations=500, l2_leaf_reg=1, learning_rate=0.01; total time=29.0min\n",
      "0:\tlearn: 0.5959466\ttotal: 2.58s\tremaining: 21m 25s\n",
      "100:\tlearn: 0.2609003\ttotal: 5m 39s\tremaining: 22m 20s\n",
      "200:\tlearn: 0.2583572\ttotal: 11m 11s\tremaining: 16m 38s\n",
      "300:\tlearn: 0.2567659\ttotal: 16m 51s\tremaining: 11m 8s\n",
      "400:\tlearn: 0.2556505\ttotal: 22m 23s\tremaining: 5m 31s\n",
      "499:\tlearn: 0.2548747\ttotal: 27m 52s\tremaining: 0us\n",
      "[CV] END depth=8, iterations=500, l2_leaf_reg=1, learning_rate=0.05; total time=28.3min\n",
      "0:\tlearn: 0.5962595\ttotal: 4.08s\tremaining: 13m 31s\n",
      "100:\tlearn: 0.2608870\ttotal: 5m 51s\tremaining: 5m 44s\n",
      "199:\tlearn: 0.2583762\ttotal: 11m 12s\tremaining: 0us\n",
      "[CV] END depth=8, iterations=200, l2_leaf_reg=3, learning_rate=0.05; total time=11.6min\n",
      "0:\tlearn: 0.5956091\ttotal: 3.85s\tremaining: 32m\n",
      "100:\tlearn: 0.2608179\ttotal: 5m 51s\tremaining: 23m 7s\n",
      "200:\tlearn: 0.2582832\ttotal: 11m 29s\tremaining: 17m 5s\n",
      "300:\tlearn: 0.2567689\ttotal: 17m 6s\tremaining: 11m 18s\n",
      "400:\tlearn: 0.2556554\ttotal: 22m 36s\tremaining: 5m 34s\n",
      "499:\tlearn: 0.2548132\ttotal: 28m\tremaining: 0us\n",
      "[CV] END depth=8, iterations=500, l2_leaf_reg=1, learning_rate=0.05; total time=28.4min\n",
      "0:\tlearn: 0.6730738\ttotal: 3.12s\tremaining: 25m 57s\n",
      "100:\tlearn: 0.2789326\ttotal: 6m\tremaining: 23m 43s\n",
      "200:\tlearn: 0.2658741\ttotal: 11m 49s\tremaining: 17m 34s\n",
      "300:\tlearn: 0.2630536\ttotal: 17m 31s\tremaining: 11m 35s\n",
      "400:\tlearn: 0.2617534\ttotal: 23m 12s\tremaining: 5m 43s\n",
      "499:\tlearn: 0.2608610\ttotal: 28m 41s\tremaining: 0us\n",
      "[CV] END depth=8, iterations=500, l2_leaf_reg=3, learning_rate=0.01; total time=29.2min\n",
      "0:\tlearn: 0.6729312\ttotal: 3.95s\tremaining: 32m 53s\n",
      "100:\tlearn: 0.2790805\ttotal: 6m\tremaining: 23m 43s\n",
      "200:\tlearn: 0.2660439\ttotal: 11m 47s\tremaining: 17m 32s\n",
      "300:\tlearn: 0.2631962\ttotal: 17m 29s\tremaining: 11m 33s\n",
      "400:\tlearn: 0.2618891\ttotal: 23m 11s\tremaining: 5m 43s\n",
      "499:\tlearn: 0.2609618\ttotal: 28m 33s\tremaining: 0us\n",
      "[CV] END depth=8, iterations=500, l2_leaf_reg=1, learning_rate=0.01; total time=29.0min\n",
      "0:\tlearn: 0.6729942\ttotal: 3.77s\tremaining: 31m 20s\n",
      "100:\tlearn: 0.2794043\ttotal: 6m 2s\tremaining: 23m 50s\n",
      "200:\tlearn: 0.2660437\ttotal: 11m 51s\tremaining: 17m 39s\n",
      "300:\tlearn: 0.2632035\ttotal: 17m 38s\tremaining: 11m 39s\n",
      "400:\tlearn: 0.2618923\ttotal: 23m 21s\tremaining: 5m 46s\n",
      "499:\tlearn: 0.2610330\ttotal: 28m 46s\tremaining: 0us\n",
      "[CV] END depth=8, iterations=500, l2_leaf_reg=3, learning_rate=0.01; total time=29.2min\n",
      "0:\tlearn: 0.5958719\ttotal: 1.6s\tremaining: 13m 18s\n",
      "100:\tlearn: 0.2608453\ttotal: 2m 13s\tremaining: 8m 48s\n",
      "0:\tlearn: 0.5960605\ttotal: 3.37s\tremaining: 28m\n",
      "100:\tlearn: 0.2608950\ttotal: 5m 42s\tremaining: 22m 33s\n",
      "200:\tlearn: 0.2583915\ttotal: 11m 16s\tremaining: 16m 46s\n",
      "300:\tlearn: 0.2568994\ttotal: 16m 55s\tremaining: 11m 11s\n",
      "400:\tlearn: 0.2557503\ttotal: 22m 28s\tremaining: 5m 32s\n",
      "499:\tlearn: 0.2548919\ttotal: 27m 55s\tremaining: 0us\n",
      "[CV] END depth=8, iterations=500, l2_leaf_reg=1, learning_rate=0.05; total time=28.3min\n",
      "0:\tlearn: 0.5956229\ttotal: 3.71s\tremaining: 30m 49s\n",
      "100:\tlearn: 0.2607512\ttotal: 5m 39s\tremaining: 22m 20s\n",
      "200:\tlearn: 0.2581986\ttotal: 11m 15s\tremaining: 16m 45s\n",
      "300:\tlearn: 0.2567152\ttotal: 16m 57s\tremaining: 11m 12s\n",
      "400:\tlearn: 0.2555953\ttotal: 22m 33s\tremaining: 5m 34s\n",
      "499:\tlearn: 0.2547786\ttotal: 28m 5s\tremaining: 0us\n",
      "[CV] END depth=8, iterations=500, l2_leaf_reg=3, learning_rate=0.05; total time=28.5min\n",
      "200:\tlearn: 0.2584190\ttotal: 4m 20s\tremaining: 6m 27s\n",
      "0:\tlearn: 0.6729558\ttotal: 3.68s\tremaining: 30m 35s\n",
      "100:\tlearn: 0.2791124\ttotal: 5m 49s\tremaining: 23m 1s\n",
      "200:\tlearn: 0.2659981\ttotal: 11m 41s\tremaining: 17m 23s\n",
      "300:\tlearn: 0.2631853\ttotal: 17m 25s\tremaining: 11m 31s\n",
      "400:\tlearn: 0.2619011\ttotal: 23m 4s\tremaining: 5m 41s\n",
      "499:\tlearn: 0.2610008\ttotal: 28m 34s\tremaining: 0us\n",
      "[CV] END depth=8, iterations=500, l2_leaf_reg=3, learning_rate=0.01; total time=28.9min\n",
      "0:\tlearn: 0.5959582\ttotal: 3.52s\tremaining: 29m 16s\n",
      "100:\tlearn: 0.2609248\ttotal: 5m 48s\tremaining: 22m 56s\n",
      "200:\tlearn: 0.2583935\ttotal: 11m 22s\tremaining: 16m 55s\n",
      "300:\tlearn: 0.2568393\ttotal: 17m 4s\tremaining: 11m 17s\n",
      "400:\tlearn: 0.2556146\ttotal: 22m 42s\tremaining: 5m 36s\n",
      "499:\tlearn: 0.2548395\ttotal: 27m 45s\tremaining: 0us\n",
      "[CV] END depth=8, iterations=500, l2_leaf_reg=3, learning_rate=0.05; total time=28.1min\n",
      "0:\tlearn: 0.5962595\ttotal: 3.87s\tremaining: 32m 10s\n",
      "100:\tlearn: 0.2608870\ttotal: 5m 50s\tremaining: 23m 6s\n",
      "200:\tlearn: 0.2583665\ttotal: 11m 26s\tremaining: 17m\n",
      "300:\tlearn: 0.2568903\ttotal: 17m 8s\tremaining: 11m 19s\n",
      "400:\tlearn: 0.2557932\ttotal: 22m 44s\tremaining: 5m 36s\n",
      "499:\tlearn: 0.2549858\ttotal: 27m 30s\tremaining: 0us\n",
      "[CV] END depth=8, iterations=500, l2_leaf_reg=3, learning_rate=0.05; total time=27.8min\n",
      "300:\tlearn: 0.2568370\ttotal: 6m 30s\tremaining: 4m 18s\n",
      "400:\tlearn: 0.2557717\ttotal: 8m 37s\tremaining: 2m 7s\n",
      "499:\tlearn: 0.2549005\ttotal: 10m 45s\tremaining: 0us\n",
      "Best Hyperparameters: {'depth': 8, 'iterations': 500, 'l2_leaf_reg': 3, 'learning_rate': 0.05}\n"
     ]
    }
   ],
   "source": [
    "#obtain the best hyperparameter\n",
    "grid_search.fit(X_tr, y_tr)\n",
    "\n",
    "# Retrieve the best model and parameters\n",
    "best_model = grid_search.best_estimator_\n",
    "print(\"Best Hyperparameters:\", grid_search.best_params_)"
   ]
  },
  {
   "cell_type": "code",
   "execution_count": 36,
   "id": "8a651c5c",
   "metadata": {
    "execution": {
     "iopub.execute_input": "2024-07-06T21:50:30.423860Z",
     "iopub.status.busy": "2024-07-06T21:50:30.423496Z",
     "iopub.status.idle": "2024-07-06T21:50:30.428701Z",
     "shell.execute_reply": "2024-07-06T21:50:30.427833Z"
    },
    "papermill": {
     "duration": 0.030412,
     "end_time": "2024-07-06T21:50:30.430909",
     "exception": false,
     "start_time": "2024-07-06T21:50:30.400497",
     "status": "completed"
    },
    "tags": []
   },
   "outputs": [
    {
     "name": "stdout",
     "output_type": "stream",
     "text": [
      "Best Hyperparameters: {'depth': 8, 'iterations': 500, 'l2_leaf_reg': 3, 'learning_rate': 0.05}\n"
     ]
    }
   ],
   "source": [
    "print(\"Best Hyperparameters:\", grid_search.best_params_)"
   ]
  },
  {
   "cell_type": "code",
   "execution_count": 37,
   "id": "ae777547",
   "metadata": {
    "execution": {
     "iopub.execute_input": "2024-07-06T21:50:30.476087Z",
     "iopub.status.busy": "2024-07-06T21:50:30.475476Z",
     "iopub.status.idle": "2024-07-06T21:50:30.479539Z",
     "shell.execute_reply": "2024-07-06T21:50:30.478722Z"
    },
    "papermill": {
     "duration": 0.028455,
     "end_time": "2024-07-06T21:50:30.481307",
     "exception": false,
     "start_time": "2024-07-06T21:50:30.452852",
     "status": "completed"
    },
    "tags": []
   },
   "outputs": [],
   "source": [
    "#train the model\n",
    "best_model = CatBoostClassifier(\n",
    "    task_type='GPU',\n",
    "    random_state=42,\n",
    "    **grid_search.best_params_  # Corrected variable name\n",
    ")"
   ]
  },
  {
   "cell_type": "code",
   "execution_count": 38,
   "id": "3a21dc90",
   "metadata": {
    "execution": {
     "iopub.execute_input": "2024-07-06T21:50:30.526537Z",
     "iopub.status.busy": "2024-07-06T21:50:30.526076Z",
     "iopub.status.idle": "2024-07-06T21:59:17.386304Z",
     "shell.execute_reply": "2024-07-06T21:59:17.385234Z"
    },
    "papermill": {
     "duration": 526.885223,
     "end_time": "2024-07-06T21:59:17.388552",
     "exception": false,
     "start_time": "2024-07-06T21:50:30.503329",
     "status": "completed"
    },
    "tags": []
   },
   "outputs": [
    {
     "name": "stdout",
     "output_type": "stream",
     "text": [
      "0:\tlearn: 0.5993430\ttest: 0.5992526\tbest: 0.5992526 (0)\ttotal: 12.3s\tremaining: 1h 42m 14s\n",
      "100:\tlearn: 0.2610113\ttest: 0.2610951\tbest: 0.2610951 (100)\ttotal: 19.1s\tremaining: 1m 15s\n",
      "200:\tlearn: 0.2588370\ttest: 0.2589617\tbest: 0.2589617 (200)\ttotal: 25.9s\tremaining: 38.5s\n",
      "300:\tlearn: 0.2576240\ttest: 0.2577774\tbest: 0.2577774 (300)\ttotal: 32.7s\tremaining: 21.6s\n",
      "400:\tlearn: 0.2567998\ttest: 0.2569780\tbest: 0.2569780 (400)\ttotal: 39.4s\tremaining: 9.72s\n",
      "499:\tlearn: 0.2562311\ttest: 0.2564335\tbest: 0.2564335 (499)\ttotal: 46.1s\tremaining: 0us\n",
      "bestTest = 0.256433456\n",
      "bestIteration = 499\n",
      "Fold 1: Train AUC = 0.8730, Validation AUC = 0.8726\n",
      "0:\tlearn: 0.5993961\ttest: 0.5993460\tbest: 0.5993460 (0)\ttotal: 70.2ms\tremaining: 35s\n",
      "100:\tlearn: 0.2610351\ttest: 0.2608840\tbest: 0.2608840 (100)\ttotal: 6.82s\tremaining: 26.9s\n",
      "200:\tlearn: 0.2588287\ttest: 0.2587548\tbest: 0.2587548 (200)\ttotal: 13.6s\tremaining: 20.3s\n",
      "300:\tlearn: 0.2575025\ttest: 0.2574875\tbest: 0.2574875 (300)\ttotal: 20.4s\tremaining: 13.5s\n",
      "400:\tlearn: 0.2567165\ttest: 0.2567392\tbest: 0.2567392 (400)\ttotal: 27.2s\tremaining: 6.71s\n",
      "499:\tlearn: 0.2561649\ttest: 0.2562162\tbest: 0.2562162 (499)\ttotal: 33.9s\tremaining: 0us\n",
      "bestTest = 0.2562162369\n",
      "bestIteration = 499\n",
      "Fold 2: Train AUC = 0.8731, Validation AUC = 0.8729\n",
      "0:\tlearn: 0.5993219\ttest: 0.5993357\tbest: 0.5993357 (0)\ttotal: 70.2ms\tremaining: 35s\n",
      "100:\tlearn: 0.2609861\ttest: 0.2608824\tbest: 0.2608824 (100)\ttotal: 6.81s\tremaining: 26.9s\n",
      "200:\tlearn: 0.2587940\ttest: 0.2587096\tbest: 0.2587096 (200)\ttotal: 13.6s\tremaining: 20.3s\n",
      "300:\tlearn: 0.2575254\ttest: 0.2574709\tbest: 0.2574709 (300)\ttotal: 20.4s\tremaining: 13.5s\n",
      "400:\tlearn: 0.2567447\ttest: 0.2567129\tbest: 0.2567129 (400)\ttotal: 27.2s\tremaining: 6.72s\n",
      "499:\tlearn: 0.2562062\ttest: 0.2561964\tbest: 0.2561964 (499)\ttotal: 33.9s\tremaining: 0us\n",
      "bestTest = 0.2561963539\n",
      "bestIteration = 499\n",
      "Fold 3: Train AUC = 0.8730, Validation AUC = 0.8731\n",
      "0:\tlearn: 0.5967151\ttest: 0.5967645\tbest: 0.5967645 (0)\ttotal: 69.9ms\tremaining: 34.9s\n",
      "100:\tlearn: 0.2610511\ttest: 0.2615335\tbest: 0.2615335 (100)\ttotal: 6.81s\tremaining: 26.9s\n",
      "200:\tlearn: 0.2589142\ttest: 0.2594582\tbest: 0.2594582 (200)\ttotal: 13.7s\tremaining: 20.3s\n",
      "300:\tlearn: 0.2577796\ttest: 0.2583761\tbest: 0.2583761 (300)\ttotal: 20.4s\tremaining: 13.5s\n",
      "400:\tlearn: 0.2569547\ttest: 0.2575831\tbest: 0.2575831 (400)\ttotal: 27.2s\tremaining: 6.71s\n",
      "499:\tlearn: 0.2563916\ttest: 0.2570544\tbest: 0.2570544 (499)\ttotal: 33.9s\tremaining: 0us\n",
      "bestTest = 0.2570544197\n",
      "bestIteration = 499\n",
      "Fold 4: Train AUC = 0.8727, Validation AUC = 0.8717\n",
      "0:\tlearn: 0.5954801\ttest: 0.5955214\tbest: 0.5955214 (0)\ttotal: 69.5ms\tremaining: 34.7s\n",
      "100:\tlearn: 0.2610024\ttest: 0.2615790\tbest: 0.2615790 (100)\ttotal: 6.82s\tremaining: 26.9s\n",
      "200:\tlearn: 0.2587786\ttest: 0.2593486\tbest: 0.2593486 (200)\ttotal: 13.6s\tremaining: 20.3s\n",
      "300:\tlearn: 0.2575751\ttest: 0.2581468\tbest: 0.2581468 (300)\ttotal: 20.4s\tremaining: 13.5s\n",
      "400:\tlearn: 0.2567057\ttest: 0.2572734\tbest: 0.2572734 (400)\ttotal: 27.1s\tremaining: 6.69s\n",
      "499:\tlearn: 0.2561889\ttest: 0.2567739\tbest: 0.2567739 (499)\ttotal: 33.8s\tremaining: 0us\n",
      "bestTest = 0.2567739118\n",
      "bestIteration = 499\n",
      "Fold 5: Train AUC = 0.8730, Validation AUC = 0.8722\n",
      "0:\tlearn: 0.5965938\ttest: 0.5965840\tbest: 0.5965840 (0)\ttotal: 70.3ms\tremaining: 35.1s\n",
      "100:\tlearn: 0.2610337\ttest: 0.2606759\tbest: 0.2606759 (100)\ttotal: 6.79s\tremaining: 26.8s\n",
      "200:\tlearn: 0.2587900\ttest: 0.2584231\tbest: 0.2584231 (200)\ttotal: 13.6s\tremaining: 20.2s\n",
      "300:\tlearn: 0.2576271\ttest: 0.2572616\tbest: 0.2572616 (300)\ttotal: 20.4s\tremaining: 13.5s\n",
      "400:\tlearn: 0.2567538\ttest: 0.2563951\tbest: 0.2563951 (400)\ttotal: 27.1s\tremaining: 6.69s\n",
      "499:\tlearn: 0.2562513\ttest: 0.2559141\tbest: 0.2559141 (499)\ttotal: 33.8s\tremaining: 0us\n",
      "bestTest = 0.2559140533\n",
      "bestIteration = 499\n",
      "Fold 6: Train AUC = 0.8729, Validation AUC = 0.8736\n",
      "0:\tlearn: 0.5993825\ttest: 0.5994820\tbest: 0.5994820 (0)\ttotal: 70.9ms\tremaining: 35.4s\n",
      "100:\tlearn: 0.2610750\ttest: 0.2615375\tbest: 0.2615375 (100)\ttotal: 6.79s\tremaining: 26.8s\n",
      "200:\tlearn: 0.2587330\ttest: 0.2592161\tbest: 0.2592161 (200)\ttotal: 13.6s\tremaining: 20.2s\n",
      "300:\tlearn: 0.2575739\ttest: 0.2580685\tbest: 0.2580685 (300)\ttotal: 20.4s\tremaining: 13.5s\n",
      "400:\tlearn: 0.2567539\ttest: 0.2572618\tbest: 0.2572618 (400)\ttotal: 27.2s\tremaining: 6.7s\n",
      "499:\tlearn: 0.2561751\ttest: 0.2566977\tbest: 0.2566977 (499)\ttotal: 33.8s\tremaining: 0us\n",
      "bestTest = 0.2566976936\n",
      "bestIteration = 499\n",
      "Fold 7: Train AUC = 0.8731, Validation AUC = 0.8723\n",
      "0:\tlearn: 0.5966078\ttest: 0.5965996\tbest: 0.5965996 (0)\ttotal: 71.2ms\tremaining: 35.5s\n",
      "100:\tlearn: 0.2610325\ttest: 0.2608876\tbest: 0.2608876 (100)\ttotal: 6.81s\tremaining: 26.9s\n",
      "200:\tlearn: 0.2587895\ttest: 0.2586852\tbest: 0.2586852 (200)\ttotal: 13.6s\tremaining: 20.3s\n",
      "300:\tlearn: 0.2575630\ttest: 0.2575052\tbest: 0.2575052 (300)\ttotal: 20.4s\tremaining: 13.5s\n",
      "400:\tlearn: 0.2567552\ttest: 0.2567484\tbest: 0.2567484 (400)\ttotal: 27.2s\tremaining: 6.71s\n",
      "499:\tlearn: 0.2562065\ttest: 0.2562432\tbest: 0.2562432 (499)\ttotal: 33.9s\tremaining: 0us\n",
      "bestTest = 0.256243155\n",
      "bestIteration = 499\n",
      "Fold 8: Train AUC = 0.8730, Validation AUC = 0.8729\n",
      "0:\tlearn: 0.5993808\ttest: 0.5993226\tbest: 0.5993226 (0)\ttotal: 71ms\tremaining: 35.4s\n",
      "100:\tlearn: 0.2610754\ttest: 0.2606382\tbest: 0.2606382 (100)\ttotal: 6.79s\tremaining: 26.8s\n",
      "200:\tlearn: 0.2588476\ttest: 0.2583687\tbest: 0.2583687 (200)\ttotal: 13.6s\tremaining: 20.2s\n",
      "300:\tlearn: 0.2576280\ttest: 0.2571475\tbest: 0.2571475 (300)\ttotal: 20.4s\tremaining: 13.5s\n",
      "400:\tlearn: 0.2568259\ttest: 0.2563584\tbest: 0.2563584 (400)\ttotal: 27.2s\tremaining: 6.7s\n",
      "499:\tlearn: 0.2562385\ttest: 0.2557788\tbest: 0.2557788 (499)\ttotal: 33.9s\tremaining: 0us\n",
      "bestTest = 0.2557787615\n",
      "bestIteration = 499\n",
      "Fold 9: Train AUC = 0.8730, Validation AUC = 0.8736\n",
      "0:\tlearn: 0.5993474\ttest: 0.5993748\tbest: 0.5993748 (0)\ttotal: 70.3ms\tremaining: 35.1s\n",
      "100:\tlearn: 0.2610166\ttest: 0.2609357\tbest: 0.2609357 (100)\ttotal: 6.77s\tremaining: 26.8s\n",
      "200:\tlearn: 0.2587726\ttest: 0.2586929\tbest: 0.2586929 (200)\ttotal: 13.6s\tremaining: 20.2s\n",
      "300:\tlearn: 0.2575152\ttest: 0.2574192\tbest: 0.2574192 (300)\ttotal: 20.3s\tremaining: 13.4s\n",
      "400:\tlearn: 0.2566916\ttest: 0.2565951\tbest: 0.2565951 (400)\ttotal: 27.1s\tremaining: 6.68s\n",
      "499:\tlearn: 0.2561468\ttest: 0.2560573\tbest: 0.2560573 (499)\ttotal: 33.8s\tremaining: 0us\n",
      "bestTest = 0.256057314\n",
      "bestIteration = 499\n",
      "Fold 10: Train AUC = 0.8731, Validation AUC = 0.8733\n",
      "\n",
      "Mean Train AUC: 0.8730\n",
      "Mean Validation AUC: 0.8728\n"
     ]
    }
   ],
   "source": [
    "trained_model, train_scores, val_scores = cross_validate_model_catboost(best_model, X_tr, y_tr)"
   ]
  },
  {
   "cell_type": "markdown",
   "id": "2586e227",
   "metadata": {
    "papermill": {
     "duration": 0.027398,
     "end_time": "2024-07-06T21:59:17.444066",
     "exception": false,
     "start_time": "2024-07-06T21:59:17.416668",
     "status": "completed"
    },
    "tags": []
   },
   "source": [
    "**Note:** AUC score of 0.8730 is a bit closser to our aim of 0.90. However, you might work on improving this model."
   ]
  },
  {
   "cell_type": "markdown",
   "id": "d2aafd80",
   "metadata": {
    "papermill": {
     "duration": 0.027299,
     "end_time": "2024-07-06T21:59:17.498600",
     "exception": false,
     "start_time": "2024-07-06T21:59:17.471301",
     "status": "completed"
    },
    "tags": []
   },
   "source": [
    "## Model Testing & Submission"
   ]
  },
  {
   "cell_type": "code",
   "execution_count": 39,
   "id": "7dd18359",
   "metadata": {
    "execution": {
     "iopub.execute_input": "2024-07-06T21:59:17.555026Z",
     "iopub.status.busy": "2024-07-06T21:59:17.554676Z",
     "iopub.status.idle": "2024-07-06T21:59:41.919384Z",
     "shell.execute_reply": "2024-07-06T21:59:41.918485Z"
    },
    "papermill": {
     "duration": 24.395816,
     "end_time": "2024-07-06T21:59:41.921583",
     "exception": false,
     "start_time": "2024-07-06T21:59:17.525767",
     "status": "completed"
    },
    "tags": []
   },
   "outputs": [
    {
     "name": "stdout",
     "output_type": "stream",
     "text": [
      "         id  Response\n",
      "0  11504798  0.011781\n",
      "1  11504799  0.360740\n",
      "2  11504800  0.258406\n",
      "3  11504801  0.000099\n",
      "4  11504802  0.031706\n"
     ]
    }
   ],
   "source": [
    "test_probabilities = trained_model.predict_proba(df_ts)[:, 1]\n",
    "# Combine IDs with predictions\n",
    "results = pd.DataFrame({\n",
    "    'id': df_ts['id'],\n",
    "    'Response': test_probabilities\n",
    "})\n",
    "# Save results to a CSV file\n",
    "results.to_csv('Model Prediction CatBoost 0.8670.csv', index=False)\n",
    "\n",
    "# Output the first few rows to verify\n",
    "print(results.head())"
   ]
  },
  {
   "cell_type": "code",
   "execution_count": 40,
   "id": "736ecbf7",
   "metadata": {
    "execution": {
     "iopub.execute_input": "2024-07-06T21:59:41.979143Z",
     "iopub.status.busy": "2024-07-06T21:59:41.978774Z",
     "iopub.status.idle": "2024-07-06T21:59:41.988258Z",
     "shell.execute_reply": "2024-07-06T21:59:41.987306Z"
    },
    "papermill": {
     "duration": 0.040678,
     "end_time": "2024-07-06T21:59:41.990594",
     "exception": false,
     "start_time": "2024-07-06T21:59:41.949916",
     "status": "completed"
    },
    "tags": []
   },
   "outputs": [
    {
     "data": {
      "text/html": [
       "<div>\n",
       "<style scoped>\n",
       "    .dataframe tbody tr th:only-of-type {\n",
       "        vertical-align: middle;\n",
       "    }\n",
       "\n",
       "    .dataframe tbody tr th {\n",
       "        vertical-align: top;\n",
       "    }\n",
       "\n",
       "    .dataframe thead th {\n",
       "        text-align: right;\n",
       "    }\n",
       "</style>\n",
       "<table border=\"1\" class=\"dataframe\">\n",
       "  <thead>\n",
       "    <tr style=\"text-align: right;\">\n",
       "      <th></th>\n",
       "      <th>id</th>\n",
       "      <th>Response</th>\n",
       "    </tr>\n",
       "  </thead>\n",
       "  <tbody>\n",
       "    <tr>\n",
       "      <th>0</th>\n",
       "      <td>11504798</td>\n",
       "      <td>0.011781</td>\n",
       "    </tr>\n",
       "    <tr>\n",
       "      <th>1</th>\n",
       "      <td>11504799</td>\n",
       "      <td>0.360740</td>\n",
       "    </tr>\n",
       "    <tr>\n",
       "      <th>2</th>\n",
       "      <td>11504800</td>\n",
       "      <td>0.258406</td>\n",
       "    </tr>\n",
       "    <tr>\n",
       "      <th>3</th>\n",
       "      <td>11504801</td>\n",
       "      <td>0.000099</td>\n",
       "    </tr>\n",
       "    <tr>\n",
       "      <th>4</th>\n",
       "      <td>11504802</td>\n",
       "      <td>0.031706</td>\n",
       "    </tr>\n",
       "  </tbody>\n",
       "</table>\n",
       "</div>"
      ],
      "text/plain": [
       "         id  Response\n",
       "0  11504798  0.011781\n",
       "1  11504799  0.360740\n",
       "2  11504800  0.258406\n",
       "3  11504801  0.000099\n",
       "4  11504802  0.031706"
      ]
     },
     "execution_count": 40,
     "metadata": {},
     "output_type": "execute_result"
    }
   ],
   "source": [
    "results.head()"
   ]
  },
  {
   "cell_type": "markdown",
   "id": "7cd7568a",
   "metadata": {
    "papermill": {
     "duration": 0.027991,
     "end_time": "2024-07-06T21:59:42.047689",
     "exception": false,
     "start_time": "2024-07-06T21:59:42.019698",
     "status": "completed"
    },
    "tags": []
   },
   "source": [
    "Results:\n",
    "\n",
    "| id       | Response |\n",
    "|----------|----------|\n",
    "| 11504798 | 0.012115 |\n",
    "| 11504799 | 0.358467 |\n",
    "| 11504800 | 0.257715 |\n",
    "| 11504801 | 0.000103 |\n",
    "| 11504802 | 0.030740 |\n",
    "\n",
    "\n",
    "And continues."
   ]
  },
  {
   "cell_type": "markdown",
   "id": "ddc66cb7",
   "metadata": {
    "papermill": {
     "duration": 0.028282,
     "end_time": "2024-07-06T21:59:42.104583",
     "exception": false,
     "start_time": "2024-07-06T21:59:42.076301",
     "status": "completed"
    },
    "tags": []
   },
   "source": [
    "**Conclusion:**\n",
    "\n",
    "    This insurance cross selling prediction model is to help individuals predict whether a person based on certain information avail vehicle insurance or not. It helps in marketing this opportunity to potential customers. The model can predict with 87.28% accuracy which can be improved."
   ]
  }
 ],
 "metadata": {
  "kaggle": {
   "accelerator": "gpu",
   "dataSources": [
    {
     "databundleVersionId": 8930475,
     "sourceId": 73291,
     "sourceType": "competition"
    }
   ],
   "dockerImageVersionId": 30732,
   "isGpuEnabled": true,
   "isInternetEnabled": true,
   "language": "python",
   "sourceType": "notebook"
  },
  "kernelspec": {
   "display_name": "Python 3",
   "language": "python",
   "name": "python3"
  },
  "language_info": {
   "codemirror_mode": {
    "name": "ipython",
    "version": 3
   },
   "file_extension": ".py",
   "mimetype": "text/x-python",
   "name": "python",
   "nbconvert_exporter": "python",
   "pygments_lexer": "ipython3",
   "version": "3.10.13"
  },
  "papermill": {
   "default_parameters": {},
   "duration": 14937.593042,
   "end_time": "2024-07-06T21:59:44.982082",
   "environment_variables": {},
   "exception": null,
   "input_path": "__notebook__.ipynb",
   "output_path": "__notebook__.ipynb",
   "parameters": {},
   "start_time": "2024-07-06T17:50:47.389040",
   "version": "2.5.0"
  }
 },
 "nbformat": 4,
 "nbformat_minor": 5
}
